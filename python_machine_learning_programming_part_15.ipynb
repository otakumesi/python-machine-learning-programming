{
  "nbformat": 4,
  "nbformat_minor": 0,
  "metadata": {
    "colab": {
      "name": "python_machine_learning_programming_part_15.ipynb",
      "version": "0.3.2",
      "provenance": [],
      "collapsed_sections": [],
      "include_colab_link": true
    },
    "kernelspec": {
      "name": "python3",
      "display_name": "Python 3"
    }
  },
  "cells": [
    {
      "cell_type": "markdown",
      "metadata": {
        "id": "view-in-github",
        "colab_type": "text"
      },
      "source": [
        "<a href=\"https://colab.research.google.com/github/otakumesi/python-machine-learning-programming/blob/master/python_machine_learning_programming_part_15.ipynb\" target=\"_parent\"><img src=\"https://colab.research.google.com/assets/colab-badge.svg\" alt=\"Open In Colab\"/></a>"
      ]
    },
    {
      "metadata": {
        "id": "_WadO8nHADcs",
        "colab_type": "code",
        "colab": {
          "base_uri": "https://localhost:8080/",
          "height": 51
        },
        "outputId": "eaa1dcbc-c445-4f97-c42d-1263511f3fa8"
      },
      "cell_type": "code",
      "source": [
        "import tensorflow as tf\n",
        "import numpy as np\n",
        "\n",
        "g = tf.Graph()\n",
        "\n",
        "with g.as_default():\n",
        "    t1 = tf.constant(np.pi)\n",
        "    t2 = tf.constant([1, 2, 3, 4])\n",
        "    t3 = tf.constant([[1, 2], [3, 4]])\n",
        "    \n",
        "    r1 = tf.rank(t1)\n",
        "    r2 = tf.rank(t2)\n",
        "    r3 = tf.rank(t3)\n",
        "    \n",
        "    s1 = t1.get_shape()\n",
        "    s2 = t2.get_shape()\n",
        "    s3 = t3.get_shape()\n",
        "    print('Shapes:', s1, s2, s3)\n",
        "    \n",
        "with tf.Session(graph=g) as sess:\n",
        "    print('Ranks:', r1.eval(), r2.eval(), r3.eval())"
      ],
      "execution_count": 2,
      "outputs": [
        {
          "output_type": "stream",
          "text": [
            "Shapes: () (4,) (2, 2)\n",
            "Ranks: 0 1 2\n"
          ],
          "name": "stdout"
        }
      ]
    },
    {
      "metadata": {
        "id": "Ez6Ep6ohVY0b",
        "colab_type": "code",
        "colab": {}
      },
      "cell_type": "code",
      "source": [
        "g = tf.Graph()\n",
        "\n",
        "with g.as_default():\n",
        "    a = tf.constant(1, name='a')\n",
        "    b = tf.constant(2, name='b')\n",
        "    c = tf.constant(3, name='c')\n",
        "    z = 2 * (a - b) + c"
      ],
      "execution_count": 0,
      "outputs": []
    },
    {
      "metadata": {
        "id": "nNIDOkT1aKqS",
        "colab_type": "code",
        "colab": {
          "base_uri": "https://localhost:8080/",
          "height": 34
        },
        "outputId": "ceacf3b5-6da3-41b6-e8ac-9ce9b6852eb4"
      },
      "cell_type": "code",
      "source": [
        "with tf.Session(graph=g) as sess:\n",
        "    print('2*(a-b)+c => ', sess.run(z))"
      ],
      "execution_count": 7,
      "outputs": [
        {
          "output_type": "stream",
          "text": [
            "2*(a-b)+c =>  1\n"
          ],
          "name": "stdout"
        }
      ]
    },
    {
      "metadata": {
        "id": "94lYk-P2kk4u",
        "colab_type": "code",
        "colab": {}
      },
      "cell_type": "code",
      "source": [
        "g = tf.Graph()\n",
        "\n",
        "with g.as_default():\n",
        "    tf_a = tf.placeholder(tf.int32, shape=[], name='tf_a')\n",
        "    tf_b = tf.placeholder(tf.int32, shape=[], name='tf_b')\n",
        "    tf_c = tf.placeholder(tf.int32, shape=[], name='tf_c')\n",
        "    \n",
        "    r1 = tf_a - tf_b\n",
        "    r2 = 2 * r1\n",
        "    z = r2 + tf_c"
      ],
      "execution_count": 0,
      "outputs": []
    },
    {
      "metadata": {
        "id": "wO7tiO6blKqE",
        "colab_type": "code",
        "colab": {
          "base_uri": "https://localhost:8080/",
          "height": 34
        },
        "outputId": "f858e56c-5333-487c-ef5a-feddd8589dbd"
      },
      "cell_type": "code",
      "source": [
        "with tf.Session(graph=g) as sess:\n",
        "    feed = {tf_a: 1, tf_b: 2, tf_c: 3}\n",
        "    print('z: ', sess.run(z, feed_dict=feed))"
      ],
      "execution_count": 10,
      "outputs": [
        {
          "output_type": "stream",
          "text": [
            "z:  1\n"
          ],
          "name": "stdout"
        }
      ]
    },
    {
      "metadata": {
        "id": "nwe8gQXil2tl",
        "colab_type": "code",
        "colab": {
          "base_uri": "https://localhost:8080/",
          "height": 85
        },
        "outputId": "15358611-723e-4575-e004-e1bbcab8e69c"
      },
      "cell_type": "code",
      "source": [
        "with tf.Session(graph=g) as sess:\n",
        "    feed = {tf_a: 1, tf_b: 2}\n",
        "    print('r1: ', sess.run(r1, feed_dict=feed))\n",
        "    print('r2: ', sess.run(r2, feed_dict=feed))\n",
        "    \n",
        "    feed = {tf_a: 1, tf_b: 2, tf_c:3}\n",
        "    print('r1: ', sess.run(r1, feed_dict=feed))\n",
        "    print('r2: ', sess.run(r2, feed_dict=feed))"
      ],
      "execution_count": 12,
      "outputs": [
        {
          "output_type": "stream",
          "text": [
            "r1:  -1\n",
            "r2:  -2\n",
            "r1:  -1\n",
            "r2:  -2\n"
          ],
          "name": "stdout"
        }
      ]
    },
    {
      "metadata": {
        "id": "6qU11xofm6JB",
        "colab_type": "code",
        "colab": {}
      },
      "cell_type": "code",
      "source": [
        "import tensorflow as tf\n",
        "\n",
        "g = tf.Graph()\n",
        "\n",
        "with g.as_default():\n",
        "    tf_x = tf.placeholder(tf.float32, shape=[None, 2], name='tf_x')\n",
        "    x_mean = tf.reduce_mean(tf_x, axis=0, name='mean')"
      ],
      "execution_count": 0,
      "outputs": []
    },
    {
      "metadata": {
        "id": "LtQ7KsUQnO43",
        "colab_type": "code",
        "colab": {
          "base_uri": "https://localhost:8080/",
          "height": 85
        },
        "outputId": "90b5771e-2c5f-4978-ec83-89399cd5430e"
      },
      "cell_type": "code",
      "source": [
        "import numpy as np\n",
        "\n",
        "np.random.seed(123)\n",
        "np.set_printoptions(precision=2)\n",
        "\n",
        "with tf.Session(graph=g) as sess:\n",
        "    x1 = np.random.uniform(low=0, high=1, size=(5, 2))\n",
        "    print('Feeding data with shape ', x1.shape)\n",
        "    print('Result:', sess.run(x_mean, feed_dict={tf_x: x1}))\n",
        "    x2 = np.random.uniform(low=0, high=1, size=(10, 2))\n",
        "    print('Feeding data with shape ', x2.shape)\n",
        "    print('Result:', sess.run(x_mean, feed_dict={tf_x: x2}))\n",
        "\n"
      ],
      "execution_count": 17,
      "outputs": [
        {
          "output_type": "stream",
          "text": [
            "Feeding data with shape  (5, 2)\n",
            "Result: [0.62 0.47]\n",
            "Feeding data with shape  (10, 2)\n",
            "Result: [0.46 0.49]\n"
          ],
          "name": "stdout"
        }
      ]
    },
    {
      "metadata": {
        "id": "3-6OTgJIqdIW",
        "colab_type": "code",
        "colab": {
          "base_uri": "https://localhost:8080/",
          "height": 105
        },
        "outputId": "b2a913b0-044d-4200-9149-7c14670c48d8"
      },
      "cell_type": "code",
      "source": [
        "import tensorflow as tf\n",
        "import numpy as np\n",
        "\n",
        "g1 = tf.Graph()\n",
        "with g1.as_default():\n",
        "    w = tf.Variable(np.array([[1, 2, 3, 4], [5, 6, 7, 8]]), name='w')\n",
        "    print(w)"
      ],
      "execution_count": 19,
      "outputs": [
        {
          "output_type": "stream",
          "text": [
            "WARNING:tensorflow:From /usr/local/lib/python3.6/dist-packages/tensorflow/python/framework/op_def_library.py:263: colocate_with (from tensorflow.python.framework.ops) is deprecated and will be removed in a future version.\n",
            "Instructions for updating:\n",
            "Colocations handled automatically by placer.\n",
            "<tf.Variable 'w:0' shape=(2, 4) dtype=int64_ref>\n"
          ],
          "name": "stdout"
        }
      ]
    },
    {
      "metadata": {
        "id": "tegIuJrzrTxF",
        "colab_type": "code",
        "colab": {
          "base_uri": "https://localhost:8080/",
          "height": 51
        },
        "outputId": "6aca9941-d69c-403a-d819-b97fd3f87d8d"
      },
      "cell_type": "code",
      "source": [
        "with tf.Session(graph=g1) as sess:\n",
        "    sess.run(tf.global_variables_initializer())\n",
        "    print(sess.run(w))"
      ],
      "execution_count": 21,
      "outputs": [
        {
          "output_type": "stream",
          "text": [
            "[[1 2 3 4]\n",
            " [5 6 7 8]]\n"
          ],
          "name": "stdout"
        }
      ]
    },
    {
      "metadata": {
        "id": "m4yesJhfrxVL",
        "colab_type": "code",
        "colab": {
          "base_uri": "https://localhost:8080/",
          "height": 68
        },
        "outputId": "58de828f-1fa4-4835-93ec-78785f0b38ae"
      },
      "cell_type": "code",
      "source": [
        "import tensorflow as tf\n",
        "\n",
        "g = tf.Graph()\n",
        "\n",
        "with tf.Session(graph=g) as sess:\n",
        "    with tf.variable_scope('net_A'):\n",
        "        with tf.variable_scope('layer-1'):\n",
        "            w1 = tf.Variable(tf.random_normal(shape=(10,4), name='weights'))\n",
        "        with tf.variable_scope('layer-2'):\n",
        "            w2 = tf.Variable(tf.random_normal(shape=(20, 10), name='weights'))\n",
        "    with tf.variable_scope('net_B'):\n",
        "        with tf.variable_scope('layer-3'):\n",
        "            w3 = tf.Variable(tf.random_normal(shape=(10, 4), name='weights'))\n",
        "    print(w1)\n",
        "    print(w2)\n",
        "    print(w3)"
      ],
      "execution_count": 22,
      "outputs": [
        {
          "output_type": "stream",
          "text": [
            "<tf.Variable 'net_A/layer-1/Variable:0' shape=(10, 4) dtype=float32_ref>\n",
            "<tf.Variable 'net_A/layer-2/Variable:0' shape=(20, 10) dtype=float32_ref>\n",
            "<tf.Variable 'net_B/layer-3/Variable:0' shape=(10, 4) dtype=float32_ref>\n"
          ],
          "name": "stdout"
        }
      ]
    },
    {
      "metadata": {
        "id": "f5GIAgC4tpMA",
        "colab_type": "code",
        "colab": {}
      },
      "cell_type": "code",
      "source": [
        "import tensorflow as tf\n",
        "\n",
        "def build_classifier(data, labels, n_classes=2):\n",
        "    data_shape = data.get_shape().as_list()\n",
        "    weights = tf.get_variable(name='weights', shape=(data_shape[1], n_classes))\n",
        "    bias = tf.get_variable(name='bias', initializer=tf.zeros(shape=n_classes))\n",
        "    logits = tf.add(tf.matmul(data, weights), bias, name='logits')\n",
        "    return logits, tf.nn.softmax(logits)\n",
        "\n",
        "def build_generator(data, n_hidden):\n",
        "    data_shape = data.get_shape().as_list()\n",
        "    w1 = tf.Variable(tf.random_normal(shape=(data_shape[1], n_hidden)), name='w1')\n",
        "    b1 = tf.Variable(tf.zeros(shape=n_hidden), name='b1')\n",
        "    hidden = tf.add(tf.matmul(data, w1), b1, name='hidden_pre-activation')\n",
        "    hidden = tf.nn.relu(hidden, 'hidden_activation')\n",
        "    w2 = tf.Variable(tf.random_normal(shape=(n_hidden, data_shape[1]), name='w2'))\n",
        "    b2 = tf.Variable(tf.zeros(shape=data_shape[1], name='b2'))\n",
        "    output = tf.add(tf.matmul(hidden, w2), b2, name='output')\n",
        "    return output, tf.nn.sigmoid(output)\n",
        "\n",
        "batch_size = 64\n",
        "g = tf.Graph()\n",
        "\n",
        "with g.as_default():\n",
        "    tf_X = tf.placeholder(shape=[batch_size, 100], dtype=tf.float32, name='tf_X')\n",
        "\n",
        "    with tf.variable_scope('generator'):\n",
        "        gen_out1 = build_generator(data=tf_X, n_hidden=50)\n",
        "    \n",
        "    with tf.variable_scope('classifier') as scope:\n",
        "        cls_out1 = build_classifier(data=tf_X, labels=tf.ones(shape=batch_size))\n",
        "    \n",
        "        scope.reuse_variables()\n",
        "        cls_out2 = build_classifier(data=gen_out1[1], labels=tf.zeros(shape=batch_size))\n",
        "        init_op = tf.global_variables_initializer()"
      ],
      "execution_count": 0,
      "outputs": []
    },
    {
      "metadata": {
        "id": "f35Ktrqp0FpZ",
        "colab_type": "code",
        "colab": {
          "base_uri": "https://localhost:8080/",
          "height": 68
        },
        "outputId": "6dcf252a-d4ef-4832-f66c-001a4449e5cc"
      },
      "cell_type": "code",
      "source": [
        "import tensorflow as tf\n",
        "import numpy as np\n",
        "\n",
        "g = tf.Graph()\n",
        "\n",
        "with g.as_default():\n",
        "    tf_x = tf.placeholder(dtype=tf.float32, shape=(None), name='tf_x')\n",
        "    tf_y = tf.placeholder(dtype=tf.float32, shape=(None), name='tf_y')\n",
        "    \n",
        "    weight = tf.Variable(tf.random_normal(shape=(1, 1), stddev=0.25), name='weight')\n",
        "    bias = tf.Variable(0.0, name='bias')\n",
        "    \n",
        "    y_hat = tf.add(weight * tf_x, bias, name='y_hat')\n",
        "    \n",
        "    cost = tf.reduce_mean(tf.square((y_hat - tf_y)), name='cost')\n",
        "    \n",
        "    optim = tf.train.GradientDescentOptimizer(learning_rate=0.001)\n",
        "    train_op = optim.minimize(cost, name='train_op')"
      ],
      "execution_count": 35,
      "outputs": [
        {
          "output_type": "stream",
          "text": [
            "WARNING:tensorflow:From /usr/local/lib/python3.6/dist-packages/tensorflow/python/ops/math_ops.py:3066: to_int32 (from tensorflow.python.ops.math_ops) is deprecated and will be removed in a future version.\n",
            "Instructions for updating:\n",
            "Use tf.cast instead.\n"
          ],
          "name": "stdout"
        }
      ]
    },
    {
      "metadata": {
        "id": "Nvc2oUBD2uEr",
        "colab_type": "code",
        "colab": {
          "base_uri": "https://localhost:8080/",
          "height": 347
        },
        "outputId": "0726425e-de50-4d83-8f7e-da04af71a579"
      },
      "cell_type": "code",
      "source": [
        "import numpy as np\n",
        "import matplotlib.pyplot as plt\n",
        "\n",
        "np.random.seed(0)\n",
        "\n",
        "def make_random_data():\n",
        "    x = np.random.uniform(low=-2, high=4, size=200)\n",
        "    y = []\n",
        "    \n",
        "    for t in x:\n",
        "        r = np.random.normal(loc=0.0, scale=(0.5 + t * t / 3), size=None)\n",
        "        y.append(r)\n",
        "    return x, 1.726 * x - 0.84 + np.array(y)\n",
        "\n",
        "x, y = make_random_data()\n",
        "\n",
        "plt.plot(x, y, 'o')\n",
        "plt.show()"
      ],
      "execution_count": 34,
      "outputs": [
        {
          "output_type": "display_data",
          "data": {
            "image/png": "[encoded data removed]",
            "text/plain": [
              "<Figure size 576x396 with 1 Axes>"
            ]
          },
          "metadata": {
            "tags": []
          }
        }
      ]
    },
    {
      "metadata": {
        "id": "XKt0NQap3kdh",
        "colab_type": "code",
        "colab": {
          "base_uri": "https://localhost:8080/",
          "height": 517
        },
        "outputId": "71fec0d0-63ab-45c3-d728-ea4e6237849a"
      },
      "cell_type": "code",
      "source": [
        "X_train, y_train = x[:100], y[:100]\n",
        "X_test, y_test = x[100:], y[100:]\n",
        "\n",
        "n_epochs = 500\n",
        "training_costs = []\n",
        "\n",
        "with tf.Session(graph=g) as sess:\n",
        "    sess.run(tf.global_variables_initializer())\n",
        "    \n",
        "    for e in range(n_epochs):\n",
        "        c, _ = sess.run([cost, train_op], feed_dict={tf_x: X_train, tf_y: y_train})\n",
        "        \n",
        "        training_costs.append(c)\n",
        "        \n",
        "        if not e % 50:\n",
        "            print('Epoch %4d: %.4f' % (e, c))\n",
        "\n",
        "plt.plot(training_costs)\n",
        "plt.show()"
      ],
      "execution_count": 40,
      "outputs": [
        {
          "output_type": "stream",
          "text": [
            "Epoch    0: 13.1611\n",
            "Epoch   50: 8.8330\n",
            "Epoch  100: 6.7910\n",
            "Epoch  150: 5.7981\n",
            "Epoch  200: 5.2909\n",
            "Epoch  250: 5.0121\n",
            "Epoch  300: 4.8440\n",
            "Epoch  350: 4.7320\n",
            "Epoch  400: 4.6504\n",
            "Epoch  450: 4.5871\n"
          ],
          "name": "stdout"
        },
        {
          "output_type": "display_data",
          "data": {
            "image/png": "[encoded data removed]",
            "text/plain": [
              "<Figure size 576x396 with 1 Axes>"
            ]
          },
          "metadata": {
            "tags": []
          }
        }
      ]
    },
    {
      "metadata": {
        "id": "aHEV7OSK5eld",
        "colab_type": "code",
        "colab": {
          "base_uri": "https://localhost:8080/",
          "height": 517
        },
        "outputId": "81d2f08a-def5-4189-89d5-1423cdaa103e"
      },
      "cell_type": "code",
      "source": [
        "X_train, y_train = x[:100], y[:100]\n",
        "X_test, y_test = x[100:], y[100:]\n",
        "\n",
        "n_epochs = 500\n",
        "training_costs = []\n",
        "\n",
        "with tf.Session(graph=g) as sess:\n",
        "    sess.run(tf.global_variables_initializer())\n",
        "    \n",
        "    for e in range(n_epochs):\n",
        "        c, _ = sess.run(['cost:0', 'train_op'], feed_dict={'tf_x:0': X_train, 'tf_y:0': y_train})\n",
        "        \n",
        "        training_costs.append(c)\n",
        "        \n",
        "        if not e % 50:\n",
        "            print('Epoch %4d: %.4f' % (e, c))\n",
        "\n",
        "plt.plot(training_costs)\n",
        "plt.show()"
      ],
      "execution_count": 42,
      "outputs": [
        {
          "output_type": "stream",
          "text": [
            "Epoch    0: 9.5561\n",
            "Epoch   50: 7.1156\n",
            "Epoch  100: 5.9423\n",
            "Epoch  150: 5.3535\n",
            "Epoch  200: 5.0381\n",
            "Epoch  250: 4.8537\n",
            "Epoch  300: 4.7346\n",
            "Epoch  350: 4.6501\n",
            "Epoch  400: 4.5857\n",
            "Epoch  450: 4.5340\n"
          ],
          "name": "stdout"
        },
        {
          "output_type": "display_data",
          "data": {
            "image/png": "[encoded data removed]",
            "text/plain": [
              "<Figure size 576x396 with 1 Axes>"
            ]
          },
          "metadata": {
            "tags": []
          }
        }
      ]
    },
    {
      "metadata": {
        "id": "91RfxDhr5jvI",
        "colab_type": "code",
        "colab": {
          "base_uri": "https://localhost:8080/",
          "height": 187
        },
        "outputId": "484f7c03-5b18-4d9f-aa22-de39539387ec"
      },
      "cell_type": "code",
      "source": [
        "with g.as_default():\n",
        "    saver = tf.train.Saver()\n",
        "\n",
        "n_epochs = 500\n",
        "training_costs = []\n",
        "\n",
        "with tf.Session(graph=g) as sess:\n",
        "    sess.run(tf.global_variables_initializer())\n",
        "    \n",
        "    for e in range(n_epochs):\n",
        "        c, _ = sess.run([cost, train_op], feed_dict={tf_x: X_train, tf_y: y_train})\n",
        "        training_costs.append(c)\n",
        "        \n",
        "        if not e % 50:\n",
        "            print('Epoch %4d: %.4f' % (e, c))\n",
        "            \n",
        "    saver.save(sess, './trained_model')"
      ],
      "execution_count": 43,
      "outputs": [
        {
          "output_type": "stream",
          "text": [
            "Epoch    0: 11.4827\n",
            "Epoch   50: 8.0354\n",
            "Epoch  100: 6.3985\n",
            "Epoch  150: 5.5938\n",
            "Epoch  200: 5.1757\n",
            "Epoch  250: 4.9406\n",
            "Epoch  300: 4.7950\n",
            "Epoch  350: 4.6955\n",
            "Epoch  400: 4.6217\n",
            "Epoch  450: 4.5637\n"
          ],
          "name": "stdout"
        }
      ]
    },
    {
      "metadata": {
        "id": "PyUgerqg6-pp",
        "colab_type": "code",
        "colab": {
          "base_uri": "https://localhost:8080/",
          "height": 51
        },
        "outputId": "5501dd4d-abbb-4d88-c94d-08a83d81d549"
      },
      "cell_type": "code",
      "source": [
        "%ls"
      ],
      "execution_count": 44,
      "outputs": [
        {
          "output_type": "stream",
          "text": [
            "checkpoint    trained_model.data-00000-of-00001  trained_model.meta\n",
            "\u001b[0m\u001b[01;34msample_data\u001b[0m/  trained_model.index\n"
          ],
          "name": "stdout"
        }
      ]
    },
    {
      "metadata": {
        "id": "oupQoGg47d44",
        "colab_type": "code",
        "colab": {
          "base_uri": "https://localhost:8080/",
          "height": 364
        },
        "outputId": "3181fbaf-12f4-45b1-a6e0-41f4e1bcbbd7"
      },
      "cell_type": "code",
      "source": [
        "import matplotlib.pyplot as plt\n",
        "\n",
        "x_arr = np.arange(-2, 4, 0.1)\n",
        "g2 = tf.Graph()\n",
        "\n",
        "with tf.Session() as sess:\n",
        "    new_saver = tf.train.import_meta_graph('./trained_model.meta')\n",
        "    new_saver.restore(sess, './trained_model')\n",
        "    y_arr = sess.run('y_hat:0', feed_dict={'tf_x:0': x_arr})\n",
        "    \n",
        "plt.figure()\n",
        "plt.plot(X_train, y_train, 'bo')\n",
        "plt.plot(X_test, y_test, 'bo', alpha=0.3)\n",
        "plt.plot(x_arr, y_arr.T[:, 0], '-r', lw=3)\n",
        "plt.show()"
      ],
      "execution_count": 48,
      "outputs": [
        {
          "output_type": "stream",
          "text": [
            "INFO:tensorflow:Restoring parameters from ./trained_model\n"
          ],
          "name": "stdout"
        },
        {
          "output_type": "display_data",
          "data": {
            "image/png": "[encoded data removed]",
            "text/plain": [
              "<Figure size 576x396 with 1 Axes>"
            ]
          },
          "metadata": {
            "tags": []
          }
        }
      ]
    },
    {
      "metadata": {
        "id": "tBXlIvJml2bN",
        "colab_type": "code",
        "colab": {
          "base_uri": "https://localhost:8080/",
          "height": 85
        },
        "outputId": "f2577e85-7ff0-43eb-bd15-f0dd006d8eb5"
      },
      "cell_type": "code",
      "source": [
        "import tensorflow as tf\n",
        "import numpy as np\n",
        "\n",
        "g = tf.Graph()\n",
        "\n",
        "with g.as_default():\n",
        "    arr = np.array([[1., 2., 3., 3.5],\n",
        "                    [4., 5., 6., 6.5],\n",
        "                    [7., 8., 9., 9.5]])\n",
        "    \n",
        "    T1 = tf.constant(arr, name='T1')\n",
        "    print(T1)\n",
        "    s = T1.get_shape()\n",
        "    print('Shape of T1 is ', s)\n",
        "    \n",
        "    T2 = tf.Variable(tf.random_normal(shape=s), name='T2')\n",
        "    print(T2)\n",
        "    T3 = tf.Variable(tf.random_normal(shape=(s.as_list()[0],)))\n",
        "    print(T3)"
      ],
      "execution_count": 21,
      "outputs": [
        {
          "output_type": "stream",
          "text": [
            "Tensor(\"T1:0\", shape=(3, 4), dtype=float64)\n",
            "Shape of T1 is  (3, 4)\n",
            "<tf.Variable 'T2:0' shape=(3, 4) dtype=float32_ref>\n",
            "<tf.Variable 'Variable:0' shape=(3,) dtype=float32_ref>\n"
          ],
          "name": "stdout"
        }
      ]
    },
    {
      "metadata": {
        "id": "66qdKc3_l_yb",
        "colab_type": "code",
        "colab": {
          "base_uri": "https://localhost:8080/",
          "height": 51
        },
        "outputId": "890a8d7e-b90f-4c6a-8de9-c72fe6fe2f27"
      },
      "cell_type": "code",
      "source": [
        "with g.as_default():\n",
        "    T4 = tf.reshape(T1, shape=[1, 1, -1], name='T4')\n",
        "    print(T4)\n",
        "    T5 = tf.reshape(T1, shape=[1, 3, -1], name='T5')\n",
        "    print(T5)"
      ],
      "execution_count": 22,
      "outputs": [
        {
          "output_type": "stream",
          "text": [
            "Tensor(\"T4:0\", shape=(1, 1, 12), dtype=float64)\n",
            "Tensor(\"T5:0\", shape=(1, 3, 4), dtype=float64)\n"
          ],
          "name": "stdout"
        }
      ]
    },
    {
      "metadata": {
        "id": "JQ_ROUXBnlwS",
        "colab_type": "code",
        "colab": {
          "base_uri": "https://localhost:8080/",
          "height": 85
        },
        "outputId": "6ef81a2c-4072-4d1e-e62a-60aac2024cd2"
      },
      "cell_type": "code",
      "source": [
        "with tf.Session(graph=g) as sess:\n",
        "    print(sess.run(T4))\n",
        "    print(sess.run(T5))"
      ],
      "execution_count": 13,
      "outputs": [
        {
          "output_type": "stream",
          "text": [
            "[[[1.  2.  3.  3.5 4.  5.  6.  6.5 7.  8.  9.  9.5]]]\n",
            "[[[1.  2.  3.  3.5]\n",
            "  [4.  5.  6.  6.5]\n",
            "  [7.  8.  9.  9.5]]]\n"
          ],
          "name": "stdout"
        }
      ]
    },
    {
      "metadata": {
        "id": "ZI_K3eJYn5RN",
        "colab_type": "code",
        "colab": {
          "base_uri": "https://localhost:8080/",
          "height": 51
        },
        "outputId": "3aed5817-6f88-427e-b1c0-24f7818d35b5"
      },
      "cell_type": "code",
      "source": [
        "with g.as_default():\n",
        "    T6 = tf.transpose(T5, perm=[2, 1, 0], name='T6')\n",
        "    print(T6)\n",
        "    T7 = tf.transpose(T5, perm=[0, 2, 1],  name='T7')\n",
        "    print(T7)"
      ],
      "execution_count": 15,
      "outputs": [
        {
          "output_type": "stream",
          "text": [
            "Tensor(\"T6:0\", shape=(4, 3, 1), dtype=float64)\n",
            "Tensor(\"T7:0\", shape=(1, 4, 3), dtype=float64)\n"
          ],
          "name": "stdout"
        }
      ]
    },
    {
      "metadata": {
        "id": "TGBVonwkpHqW",
        "colab_type": "code",
        "colab": {
          "base_uri": "https://localhost:8080/",
          "height": 34
        },
        "outputId": "67af005d-1902-486b-b875-835ec3011c1d"
      },
      "cell_type": "code",
      "source": [
        "with g.as_default():\n",
        "    t5_split = tf.split(T5, num_or_size_splits=2, axis=2, name='T5')\n",
        "    print(t5_split)"
      ],
      "execution_count": 24,
      "outputs": [
        {
          "output_type": "stream",
          "text": [
            "[<tf.Tensor 'T5_1:0' shape=(1, 3, 2) dtype=float64>, <tf.Tensor 'T5_1:1' shape=(1, 3, 2) dtype=float64>]\n"
          ],
          "name": "stdout"
        }
      ]
    },
    {
      "metadata": {
        "id": "WABOJt0ioShj",
        "colab_type": "code",
        "colab": {
          "base_uri": "https://localhost:8080/",
          "height": 51
        },
        "outputId": "63a3227a-d2fc-4528-eb04-353fcd5420ea"
      },
      "cell_type": "code",
      "source": [
        "g = tf.Graph()\n",
        "\n",
        "with g.as_default():\n",
        "    t1 = tf.ones(shape=(5, 1), dtype=tf.float32, name='t1')\n",
        "    t2 = tf.zeros(shape=(5, 1), dtype=tf.float32, name='t2')\n",
        "    print(t1)\n",
        "    print(t2)"
      ],
      "execution_count": 25,
      "outputs": [
        {
          "output_type": "stream",
          "text": [
            "Tensor(\"t1:0\", shape=(5, 1), dtype=float32)\n",
            "Tensor(\"t2:0\", shape=(5, 1), dtype=float32)\n"
          ],
          "name": "stdout"
        }
      ]
    },
    {
      "metadata": {
        "id": "pByrsp82ouAD",
        "colab_type": "code",
        "colab": {
          "base_uri": "https://localhost:8080/",
          "height": 51
        },
        "outputId": "c8a5c962-bac9-48ca-dd3a-2f73158cf881"
      },
      "cell_type": "code",
      "source": [
        "with g.as_default():\n",
        "    t3 = tf.concat([t1, t2], axis=0, name='t3')\n",
        "    print(t3)\n",
        "    t4 = tf.concat([t1, t2], axis=1, name='t4')\n",
        "    print(t4)"
      ],
      "execution_count": 26,
      "outputs": [
        {
          "output_type": "stream",
          "text": [
            "Tensor(\"t3:0\", shape=(10, 1), dtype=float32)\n",
            "Tensor(\"t4:0\", shape=(5, 2), dtype=float32)\n"
          ],
          "name": "stdout"
        }
      ]
    },
    {
      "metadata": {
        "id": "s-qtWxOKpZwG",
        "colab_type": "code",
        "colab": {
          "base_uri": "https://localhost:8080/",
          "height": 272
        },
        "outputId": "6bda4528-8d13-47f3-96c1-d54af93ce16b"
      },
      "cell_type": "code",
      "source": [
        "with tf.Session(graph=g) as sess:\n",
        "    print(t3.eval())\n",
        "    print(t4.eval())"
      ],
      "execution_count": 27,
      "outputs": [
        {
          "output_type": "stream",
          "text": [
            "[[1.]\n",
            " [1.]\n",
            " [1.]\n",
            " [1.]\n",
            " [1.]\n",
            " [0.]\n",
            " [0.]\n",
            " [0.]\n",
            " [0.]\n",
            " [0.]]\n",
            "[[1. 0.]\n",
            " [1. 0.]\n",
            " [1. 0.]\n",
            " [1. 0.]\n",
            " [1. 0.]]\n"
          ],
          "name": "stdout"
        }
      ]
    },
    {
      "metadata": {
        "id": "nVEySoUTp-Yk",
        "colab_type": "code",
        "colab": {
          "base_uri": "https://localhost:8080/",
          "height": 68
        },
        "outputId": "7d98d242-531b-4ca8-d6e6-4a2f99efca80"
      },
      "cell_type": "code",
      "source": [
        "import tensorflow as tf\n",
        "\n",
        "x, y = 1.0, 2.0\n",
        "g = tf.Graph()\n",
        "\n",
        "with g.as_default():\n",
        "    tf_x = tf.placeholder(dtype=tf.float32, shape=None, name='tf_x')\n",
        "    tf_y = tf.placeholder(dtype=tf.float32, shape=None, name='tf_y')\n",
        "    if x < y:\n",
        "        res = tf.add(tf_x, tf_y, name='result_add')\n",
        "    else:\n",
        "        res = tf.subtract(tf_x, tf_y, name='result_subtract')\n",
        "    print('Object:', res)\n",
        "    \n",
        "with tf.Session(graph=g) as sess:\n",
        "    print('x < y: %s -> Result' % (x < y), res.eval(feed_dict={'tf_x:0': x, 'tf_y:0': y}))\n",
        "    x, y = 2.0, 1.0\n",
        "    print('x < y: %s -> Result' % (x < y), res.eval(feed_dict={'tf_x:0': x, 'tf_y:0': y}))\n",
        "            "
      ],
      "execution_count": 30,
      "outputs": [
        {
          "output_type": "stream",
          "text": [
            "Object: Tensor(\"result_add:0\", dtype=float32)\n",
            "x < y: True -> Result 3.0\n",
            "x < y: False -> Result 3.0\n"
          ],
          "name": "stdout"
        }
      ]
    },
    {
      "metadata": {
        "id": "QlPdM4Cdsg6z",
        "colab_type": "code",
        "colab": {
          "base_uri": "https://localhost:8080/",
          "height": 68
        },
        "outputId": "20c3896c-7b20-42eb-ee78-a4e7ff0e3783"
      },
      "cell_type": "code",
      "source": [
        "import tensorflow as tf\n",
        "\n",
        "x, y = 1.0, 2.0\n",
        "g = tf.Graph()\n",
        "\n",
        "with g.as_default():\n",
        "    tf_x = tf.placeholder(dtype=tf.float32, shape=None, name='tf_x')\n",
        "    tf_y = tf.placeholder(dtype=tf.float32, shape=None, name='tf_y')\n",
        "    \n",
        "    res = tf.cond(tf_x < tf_y,\n",
        "                  lambda: tf.add(tf_x, tf_y, name='result_add'),\n",
        "                  lambda: tf.subtract(tf_x, tf_y, name='result_subtract'))\n",
        "    print('Object:', res)\n",
        "    \n",
        "with tf.Session(graph=g) as sess:\n",
        "    print('x < y: %s -> Result: ' % (x < y), res.eval(feed_dict={'tf_x:0': x, 'tf_y:0': y}))\n",
        "    x, y = 2.0, 1.0\n",
        "    print('x < y: %s -> Result: ' % (x < y), res.eval(feed_dict={'tf_x:0': x, 'tf_y:0': y}))"
      ],
      "execution_count": 34,
      "outputs": [
        {
          "output_type": "stream",
          "text": [
            "Object: Tensor(\"cond/Merge:0\", dtype=float32)\n",
            "x < y: True -> Result:  3.0\n",
            "x < y: False -> Result:  1.0\n"
          ],
          "name": "stdout"
        }
      ]
    },
    {
      "metadata": {
        "id": "A1lDGpNKx2du",
        "colab_type": "code",
        "colab": {}
      },
      "cell_type": "code",
      "source": [
        "f1 = lambda: tf.constant(1)\n",
        "f2 = lambda: tf.constant(0)\n",
        "result = tf.case([(tf.less(x, y), f1)], default=f2)"
      ],
      "execution_count": 0,
      "outputs": []
    },
    {
      "metadata": {
        "id": "JZAvIsNJyQfu",
        "colab_type": "code",
        "colab": {}
      },
      "cell_type": "code",
      "source": [
        "i = tf.constant(0)\n",
        "threshold = 100\n",
        "c = lambda i: tf.less(i, threshold)\n",
        "b = lambda i: tf.add(i, 1)\n",
        "\n",
        "r = tf.while_loop(cond=c, body=b, loop_vars=[i])"
      ],
      "execution_count": 0,
      "outputs": []
    },
    {
      "metadata": {
        "id": "Sylp53fpynUr",
        "colab_type": "code",
        "colab": {}
      },
      "cell_type": "code",
      "source": [
        "batch_size = 64\n",
        "g = tf.Graph()\n",
        "\n",
        "with g.as_default():\n",
        "    tf_X = tf.placeholder(shape=(batch_size, 100), dtype=tf.float32, name='tf_X')\n",
        "    \n",
        "    with tf.variable_scope('generator'):\n",
        "        gen_out1 = build_generator(data=tf_X, n_hidden=50)\n",
        "    with tf.variable_scope('classifier') as scope:\n",
        "        cls_out1 = build_classifier(data=tf_X, labels=tf.ones(shape=batch_size))\n",
        "        scope.reuse_variables()\n",
        "        cls_out2 = build_classifier(data=gen_out1[1], labels=tf.zeros(shape=batch_size))"
      ],
      "execution_count": 0,
      "outputs": []
    },
    {
      "metadata": {
        "id": "CVn_oIeizx0F",
        "colab_type": "code",
        "colab": {}
      },
      "cell_type": "code",
      "source": [
        "with tf.Session(graph=g) as sess:\n",
        "    sess.run(tf.global_variables_initializer())\n",
        "    file_writer = tf.summary.FileWriter(logdir='./logs/', graph=g)"
      ],
      "execution_count": 0,
      "outputs": []
    },
    {
      "metadata": {
        "id": "xkw-PWh805_y",
        "colab_type": "code",
        "colab": {
          "base_uri": "https://localhost:8080/",
          "height": 130
        },
        "outputId": "cdc23edb-2896-4dd8-bde9-e40c3acf8fa9"
      },
      "cell_type": "code",
      "source": [
        "!tensorboard --logdir logs/"
      ],
      "execution_count": 52,
      "outputs": [
        {
          "output_type": "error",
          "ename": "SyntaxError",
          "evalue": "ignored",
          "traceback": [
            "\u001b[0;36m  File \u001b[0;32m\"<ipython-input-52-583ff2da828a>\"\u001b[0;36m, line \u001b[0;32m1\u001b[0m\n\u001b[0;31m    tensorboard --logdir logs/\u001b[0m\n\u001b[0m                            ^\u001b[0m\n\u001b[0;31mSyntaxError\u001b[0m\u001b[0;31m:\u001b[0m invalid syntax\n"
          ]
        }
      ]
    }
  ]
}