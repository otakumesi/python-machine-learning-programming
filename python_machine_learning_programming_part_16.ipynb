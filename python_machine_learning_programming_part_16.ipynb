{
  "nbformat": 4,
  "nbformat_minor": 0,
  "metadata": {
    "colab": {
      "name": "python_machine_learning_programming_part_16.ipynb",
      "version": "0.3.2",
      "provenance": [],
      "collapsed_sections": [],
      "include_colab_link": true
    },
    "kernelspec": {
      "name": "python3",
      "display_name": "Python 3"
    }
  },
  "cells": [
    {
      "cell_type": "markdown",
      "metadata": {
        "id": "view-in-github",
        "colab_type": "text"
      },
      "source": [
        "<a href=\"https://colab.research.google.com/github/otakumesi/python-machine-learning-programming/blob/master/python_machine_learning_programming_part_16.ipynb\" target=\"_parent\"><img src=\"https://colab.research.google.com/assets/colab-badge.svg\" alt=\"Open In Colab\"/></a>"
      ]
    },
    {
      "metadata": {
        "id": "9OGJPnxgVf_E",
        "colab_type": "code",
        "colab": {}
      },
      "cell_type": "code",
      "source": [
        "import numpy as np\n",
        "\n",
        "def conv1d(x, w, p=0, s=1):\n",
        "    w_rot = np.array(w[::-1])\n",
        "    x_padded = np.array(x)\n",
        "    if p > 0:\n",
        "        zero_pad = np.zeros(shape=p)\n",
        "        x_padded = np.concatenate([zero_pad, x_padded, zero_pad])\n",
        "    res = []\n",
        "    for i in range(0, int(len(x)/s), s):\n",
        "        res.append(np.sum(x_padded[i:i+w_rot.shape[0]] * w_rot))\n",
        "        \n",
        "    return np.array(res)"
      ],
      "execution_count": 0,
      "outputs": []
    },
    {
      "metadata": {
        "id": "uBtz0VQsrLdy",
        "colab_type": "code",
        "outputId": "3982e8f9-0ee7-4101-dda8-2ecb1c1ba59a",
        "colab": {
          "base_uri": "https://localhost:8080/",
          "height": 51
        }
      },
      "cell_type": "code",
      "source": [
        "x = [1, 3, 2, 4, 5, 6, 1, 3]\n",
        "w = [1, 0, 3, 1, 2]\n",
        "\n",
        "print('Conv1d Implementation:', conv1d(x, w, p=2, s=1))\n",
        "print('Numpy Results:', np.convolve(x, w, mode='same'))"
      ],
      "execution_count": 0,
      "outputs": [
        {
          "output_type": "stream",
          "text": [
            "Conv1d Implementation: [ 5. 14. 16. 26. 24. 34. 19. 22.]\n",
            "Numpy Results: [ 5 14 16 26 24 34 19 22]\n"
          ],
          "name": "stdout"
        }
      ]
    },
    {
      "metadata": {
        "id": "6TD7AG34FETM",
        "colab_type": "code",
        "colab": {}
      },
      "cell_type": "code",
      "source": [
        "import numpy as np\n",
        "import scipy.signal\n",
        "\n",
        "def conv2d(X, W, p=(0, 0), s=(1, 1)):\n",
        "    W_rot = np.array(W)[::-1, ::-1]\n",
        "    X_orig = np.array(X)\n",
        "    \n",
        "    n1 = X_orig.shape[0] + 2 * p[0]\n",
        "    n2 = X_orig.shape[1] + 2 * p[1]\n",
        "    \n",
        "    X_padded = np.zeros(shape=(n1, n2))\n",
        "    X_padded[p[0]:p[0]+X_orig.shape[0], p[1]:p[1]+X_orig.shape[1]] = X_orig\n",
        "    \n",
        "    res = []\n",
        "    \n",
        "    for i in range(0, int((X_padded.shape[0] - W_rot.shape[0]) / s[0]) + 1, s[0]):\n",
        "        res.append([])\n",
        "        for j in range(0, int((X_padded.shape[1] - W_rot.shape[1]) / s[1]) + 1, s[1]):\n",
        "            X_sub = X_padded[i:i+W_rot.shape[0], j:j+W_rot.shape[1]]\n",
        "            res[-1].append(np.sum(X_sub * W_rot))\n",
        "    return(np.array(res))"
      ],
      "execution_count": 0,
      "outputs": []
    },
    {
      "metadata": {
        "id": "3_9IFqjWOUVg",
        "colab_type": "code",
        "outputId": "13365426-db65-443b-c8ca-9803e29c3184",
        "colab": {
          "base_uri": "https://localhost:8080/",
          "height": 102
        }
      },
      "cell_type": "code",
      "source": [
        "X = [[1, 3, 2, 4], [5, 6, 1, 3], [1, 2, 0, 2], [3, 4, 3, 2]]\n",
        "W = [[1, 0 ,3], [1, 2, 1], [0, 1, 1]]\n",
        "print('Conv2d Implement: \\n', conv2d(X, W, p=(1, 1), s=(1, 1)))"
      ],
      "execution_count": 0,
      "outputs": [
        {
          "output_type": "stream",
          "text": [
            "Conv2d Implement: \n",
            " [[11. 25. 32. 13.]\n",
            " [19. 25. 24. 13.]\n",
            " [13. 28. 25. 17.]\n",
            " [11. 17. 14.  9.]]\n"
          ],
          "name": "stdout"
        }
      ]
    },
    {
      "metadata": {
        "id": "xj0Hel0hnHLK",
        "colab_type": "code",
        "outputId": "0448dee1-8c19-4fb9-fec9-e9434e08faf8",
        "colab": {
          "base_uri": "https://localhost:8080/",
          "height": 765
        }
      },
      "cell_type": "code",
      "source": [
        "!wget http://yann.lecun.com/exdb/mnist/train-images-idx3-ubyte.gz\n",
        "!wget http://yann.lecun.com/exdb/mnist/train-labels-idx1-ubyte.gz\n",
        "!wget http://yann.lecun.com/exdb/mnist/t10k-images-idx3-ubyte.gz\n",
        "!wget http://yann.lecun.com/exdb/mnist/t10k-labels-idx1-ubyte.gz"
      ],
      "execution_count": 0,
      "outputs": [
        {
          "output_type": "stream",
          "text": [
            "--2019-03-13 10:59:48--  http://yann.lecun.com/exdb/mnist/train-images-idx3-ubyte.gz\n",
            "Resolving yann.lecun.com (yann.lecun.com)... 216.165.22.6\n",
            "Connecting to yann.lecun.com (yann.lecun.com)|216.165.22.6|:80... connected.\n",
            "HTTP request sent, awaiting response... 200 OK\n",
            "Length: 9912422 (9.5M) [application/x-gzip]\n",
            "Saving to: ‘train-images-idx3-ubyte.gz’\n",
            "\n",
            "\r          train-ima   0%[                    ]       0  --.-KB/s               \r         train-imag  41%[=======>            ]   3.93M  19.6MB/s               \rtrain-images-idx3-u 100%[===================>]   9.45M  37.9MB/s    in 0.2s    \n",
            "\n",
            "2019-03-13 10:59:48 (37.9 MB/s) - ‘train-images-idx3-ubyte.gz’ saved [9912422/9912422]\n",
            "\n",
            "--2019-03-13 10:59:50--  http://yann.lecun.com/exdb/mnist/train-labels-idx1-ubyte.gz\n",
            "Resolving yann.lecun.com (yann.lecun.com)... 216.165.22.6\n",
            "Connecting to yann.lecun.com (yann.lecun.com)|216.165.22.6|:80... connected.\n",
            "HTTP request sent, awaiting response... 200 OK\n",
            "Length: 28881 (28K) [application/x-gzip]\n",
            "Saving to: ‘train-labels-idx1-ubyte.gz’\n",
            "\n",
            "train-labels-idx1-u 100%[===================>]  28.20K  --.-KB/s    in 0.02s   \n",
            "\n",
            "2019-03-13 10:59:50 (1.13 MB/s) - ‘train-labels-idx1-ubyte.gz’ saved [28881/28881]\n",
            "\n",
            "--2019-03-13 10:59:51--  http://yann.lecun.com/exdb/mnist/t10k-images-idx3-ubyte.gz\n",
            "Resolving yann.lecun.com (yann.lecun.com)... 216.165.22.6\n",
            "Connecting to yann.lecun.com (yann.lecun.com)|216.165.22.6|:80... connected.\n",
            "HTTP request sent, awaiting response... 200 OK\n",
            "Length: 1648877 (1.6M) [application/x-gzip]\n",
            "Saving to: ‘t10k-images-idx3-ubyte.gz’\n",
            "\n",
            "t10k-images-idx3-ub 100%[===================>]   1.57M  10.4MB/s    in 0.2s    \n",
            "\n",
            "2019-03-13 10:59:51 (10.4 MB/s) - ‘t10k-images-idx3-ubyte.gz’ saved [1648877/1648877]\n",
            "\n",
            "--2019-03-13 10:59:52--  http://yann.lecun.com/exdb/mnist/t10k-labels-idx1-ubyte.gz\n",
            "Resolving yann.lecun.com (yann.lecun.com)... 216.165.22.6\n",
            "Connecting to yann.lecun.com (yann.lecun.com)|216.165.22.6|:80... connected.\n",
            "HTTP request sent, awaiting response... 200 OK\n",
            "Length: 4542 (4.4K) [application/x-gzip]\n",
            "Saving to: ‘t10k-labels-idx1-ubyte.gz’\n",
            "\n",
            "t10k-labels-idx1-ub 100%[===================>]   4.44K  --.-KB/s    in 0s      \n",
            "\n",
            "2019-03-13 10:59:52 (247 MB/s) - ‘t10k-labels-idx1-ubyte.gz’ saved [4542/4542]\n",
            "\n"
          ],
          "name": "stdout"
        }
      ]
    },
    {
      "metadata": {
        "id": "wuHZklmHnKRI",
        "colab_type": "code",
        "outputId": "bd264f1b-674b-4471-a0e7-b110b4455890",
        "colab": {
          "base_uri": "https://localhost:8080/",
          "height": 51
        }
      },
      "cell_type": "code",
      "source": [
        "!gzip *ubyte.gz -d\n",
        "!ls"
      ],
      "execution_count": 0,
      "outputs": [
        {
          "output_type": "stream",
          "text": [
            "sample_data\t\tt10k-labels-idx1-ubyte\t train-labels-idx1-ubyte\n",
            "t10k-images-idx3-ubyte\ttrain-images-idx3-ubyte\n"
          ],
          "name": "stdout"
        }
      ]
    },
    {
      "metadata": {
        "id": "VvdsQDKwjZxn",
        "colab_type": "code",
        "colab": {}
      },
      "cell_type": "code",
      "source": [
        "import os\n",
        "import struct\n",
        "import numpy as np\n",
        "\n",
        "def load_mnist(path, kind='train'):\n",
        "    labels_path = os.path.join(path,  '%s-labels-idx1-ubyte' % kind)\n",
        "    images_path = os.path.join(path,  '%s-images-idx3-ubyte' % kind)\n",
        "    \n",
        "    with open(labels_path, 'rb') as lbpath:\n",
        "        magic, n = struct.unpack(\">II\", lbpath.read(8))\n",
        "        labels = np.fromfile(lbpath, dtype=np.uint8)\n",
        "        \n",
        "    with open(images_path, 'rb') as imgpath:\n",
        "        magic, num, rows, cols = struct.unpack(\">IIII\", imgpath.read(16))\n",
        "        images = np.fromfile(imgpath, dtype=np.uint8).reshape(len(labels), 784)\n",
        "        images = ((images / 255.) - .5) * 2\n",
        "        \n",
        "    return images,  labels"
      ],
      "execution_count": 0,
      "outputs": []
    },
    {
      "metadata": {
        "id": "-nL48RmSmICI",
        "colab_type": "code",
        "outputId": "b0f66ec3-7859-4c04-fa9b-bfeab58256c5",
        "colab": {
          "base_uri": "https://localhost:8080/",
          "height": 102
        }
      },
      "cell_type": "code",
      "source": [
        "X_data, y_data = load_mnist('', kind='train')\n",
        "print('Rows: %d, columns: %d' % (X_data.shape[0], X_data.shape[1]))\n",
        "\n",
        "X_test, y_test = load_mnist('', kind='t10k')\n",
        "print('Rows: %d, columns: %d' % (X_test.shape[0], X_test.shape[1]))\n",
        "\n",
        "X_train, X_valid = X_data[:50000, :], X_data[50000:, :]\n",
        "y_train, y_valid = y_data[:50000], y_data[50000:]\n",
        "\n",
        "print('Training: ', X_train.shape, y_train.shape)\n",
        "print('Validation: ', X_valid.shape, y_valid.shape)\n",
        "print('Test: ', X_test.shape, y_test.shape)"
      ],
      "execution_count": 0,
      "outputs": [
        {
          "output_type": "stream",
          "text": [
            "Rows: 60000, columns: 784\n",
            "Rows: 10000, columns: 784\n",
            "Training:  (50000, 784) (50000,)\n",
            "Validation:  (10000, 784) (10000,)\n",
            "Test:  (10000, 784) (10000,)\n"
          ],
          "name": "stdout"
        }
      ]
    },
    {
      "metadata": {
        "id": "ayusnJd7nYNt",
        "colab_type": "code",
        "colab": {}
      },
      "cell_type": "code",
      "source": [
        "def batch_generator(X, y, batch_size=64, shuffle=False, random_seed=None):\n",
        "    idx = np.arange(y.shape[0])\n",
        "    \n",
        "    if shuffle:\n",
        "        rng = np.random.RandomState(random_seed)\n",
        "        rng.shuffle(idx)\n",
        "        X, y = X[idx], y[idx]\n",
        "        \n",
        "    for i in range(0, X.shape[0], batch_size):\n",
        "        yield(X[i:i+batch_size, :], y[i:i+batch_size])"
      ],
      "execution_count": 0,
      "outputs": []
    },
    {
      "metadata": {
        "id": "B-E4ynxRoUuk",
        "colab_type": "code",
        "colab": {}
      },
      "cell_type": "code",
      "source": [
        "mean_vals = np.mean(X_train, axis=0)\n",
        "std_vals = np.std(X_train)\n",
        "\n",
        "X_train_centered = (X_train - mean_vals) / std_vals\n",
        "X_valid_centered = (X_valid - mean_vals) / std_vals\n",
        "X_test_centered = (X_test - mean_vals) / std_vals"
      ],
      "execution_count": 0,
      "outputs": []
    },
    {
      "metadata": {
        "id": "KCSODpRqqTMI",
        "colab_type": "code",
        "colab": {}
      },
      "cell_type": "code",
      "source": [
        "import tensorflow as tf\n",
        "import numpy as np\n",
        "\n",
        "def conv_layer(input_tensor, name, kernel_size, n_output_channels, padding_mode='SAME', strides=(1, 1, 1, 1)):\n",
        "    with tf.variable_scope(name):\n",
        "        input_shape = input_tensor.get_shape().as_list()\n",
        "        n_input_channels = input_shape[-1]\n",
        "        \n",
        "        weights_shape = list(kernel_size) + [n_input_channels, n_output_channels]\n",
        "        weights = tf.get_variable(name='_weights', shape=weights_shape)\n",
        "        print(weights)\n",
        "        biases = tf.get_variable(name='_biases', initializer=tf.zeros(shape=n_output_channels))\n",
        "        print(biases)\n",
        "        conv = tf.nn.conv2d(input=input_tensor, filter=weights, strides=strides, padding=padding_mode)\n",
        "        print(conv)\n",
        "        conv = tf.nn.bias_add(conv, biases, name='net_pre-activation')\n",
        "        print(conv)\n",
        "        conv = tf.nn.relu(conv, name='activation')\n",
        "        print(conv)\n",
        "        \n",
        "        return conv"
      ],
      "execution_count": 0,
      "outputs": []
    },
    {
      "metadata": {
        "id": "vstUlYTYsJph",
        "colab_type": "code",
        "outputId": "ec1c1673-e6b5-438c-8098-ad0a5e4c0e95",
        "colab": {
          "base_uri": "https://localhost:8080/",
          "height": 102
        }
      },
      "cell_type": "code",
      "source": [
        "g = tf.Graph()\n",
        "\n",
        "with g.as_default():\n",
        "    x = tf.placeholder(tf.float32, shape=[None, 28, 28, 1])\n",
        "    conv_layer(x, name='convtest', kernel_size=(3, 3), n_output_channels=32)\n",
        "    \n",
        "del g, x"
      ],
      "execution_count": 0,
      "outputs": [
        {
          "output_type": "stream",
          "text": [
            "<tf.Variable 'convtest/_weights:0' shape=(3, 3, 1, 32) dtype=float32_ref>\n",
            "<tf.Variable 'convtest/_biases:0' shape=(32,) dtype=float32_ref>\n",
            "Tensor(\"convtest/Conv2D:0\", shape=(?, 28, 28, 32), dtype=float32)\n",
            "Tensor(\"convtest/net_pre-activation:0\", shape=(?, 28, 28, 32), dtype=float32)\n",
            "Tensor(\"convtest/activation:0\", shape=(?, 28, 28, 32), dtype=float32)\n"
          ],
          "name": "stdout"
        }
      ]
    },
    {
      "metadata": {
        "id": "pdUd0WQZvoUV",
        "colab_type": "code",
        "colab": {}
      },
      "cell_type": "code",
      "source": [
        "def fc_layer(input_tensor, name, n_output_units, activation_fn=None):\n",
        "    with tf.variable_scope(name):\n",
        "        input_shape = input_tensor.get_shape().as_list()[1:]\n",
        "        n_input_units = np.prod(input_shape)\n",
        "        \n",
        "        if len(input_shape) > 1:\n",
        "            input_tensor = tf.reshape(input_tensor, shape=(-1, n_input_units))\n",
        "            \n",
        "        weights_shape = [n_input_units, n_output_units]\n",
        "        weights = tf.get_variable(name='_weights', shape=weights_shape)\n",
        "        print(weights)\n",
        "        \n",
        "        biases = tf.get_variable(name='_biases', initializer=tf.zeros(shape=n_output_units))\n",
        "        print(biases)\n",
        "        \n",
        "        layer = tf.matmul(input_tensor, weights)    \n",
        "        print(layer)\n",
        "        tf.nn.bias_add(layer, biases, name='net_pre-activation')\n",
        "        print(layer)\n",
        "        \n",
        "        if activation_fn is None:\n",
        "            return layer\n",
        "        \n",
        "        layer = activation_fn(layer, name='activation')\n",
        "        print(layer)\n",
        "        \n",
        "        return layer"
      ],
      "execution_count": 0,
      "outputs": []
    },
    {
      "metadata": {
        "id": "1l7C-pM3x-rE",
        "colab_type": "code",
        "outputId": "0107cbe6-cfda-4f6e-f1a0-edc03bc8b3f8",
        "colab": {
          "base_uri": "https://localhost:8080/",
          "height": 102
        }
      },
      "cell_type": "code",
      "source": [
        "g = tf.Graph()\n",
        "\n",
        "with g.as_default():\n",
        "    x = tf.placeholder(tf.float32, shape=[None, 28, 28, 1])\n",
        "    fc_layer(x, name='fctest', n_output_units=32, activation_fn=tf.nn.relu)"
      ],
      "execution_count": 0,
      "outputs": [
        {
          "output_type": "stream",
          "text": [
            "<tf.Variable 'fctest/_weights:0' shape=(784, 32) dtype=float32_ref>\n",
            "<tf.Variable 'fctest/_biases:0' shape=(32,) dtype=float32_ref>\n",
            "Tensor(\"fctest/MatMul:0\", shape=(?, 32), dtype=float32)\n",
            "Tensor(\"fctest/MatMul:0\", shape=(?, 32), dtype=float32)\n",
            "Tensor(\"fctest/activation:0\", shape=(?, 32), dtype=float32)\n"
          ],
          "name": "stdout"
        }
      ]
    },
    {
      "metadata": {
        "id": "Jv0rUBCQ0uKv",
        "colab_type": "code",
        "colab": {}
      },
      "cell_type": "code",
      "source": [
        "def build_cnn():\n",
        "    tf_x = tf.placeholder(tf.float32, shape=[None, 784], name='tf_x')\n",
        "    tf_y = tf.placeholder(tf.int32, shape=[None], name='tf_y')\n",
        "    \n",
        "    tf_x_image = tf.reshape(tf_x, shape=[-1, 28, 28, 1], name='tf_x_reshaped')\n",
        "    \n",
        "    tf_y_onehot = tf.one_hot(indices=tf_y, depth=10, dtype=tf.float32, name='tf_y_onehot')\n",
        "    \n",
        "    print('\\nBuilding 1st layer:')\n",
        "    h1 = conv_layer(tf_x_image, name='conv_1', kernel_size=(5, 5), n_output_channels=32, padding_mode='VALID')\n",
        "    h1_pool = tf.nn.max_pool(h1, ksize=[1, 2, 2, 1], strides=[1, 2, 2, 1], padding='SAME')\n",
        "    \n",
        "    print('\\nBuilding 2nd layer:')\n",
        "    h2 = conv_layer(h1_pool, name='conv_2', kernel_size=(5, 5), n_output_channels=64, padding_mode='VALID')\n",
        "    h2_pool = tf.nn.max_pool(h2, ksize=[1, 2, 2, 1], strides=[1, 2, 2, 1], padding='SAME')\n",
        "    \n",
        "    print('\\nBuiliding 3rd layer:')\n",
        "    h3 = fc_layer(h2_pool, name='fc_3', n_output_units=1024, activation_fn=tf.nn.relu)\n",
        "    \n",
        "    keep_prob = tf.placeholder(tf.float32, name='fc_keep_prob')\n",
        "    h3_drop = tf.nn.dropout(h2, keep_prob=keep_prob, name='dropout_layer')\n",
        "    \n",
        "    print('\\nBuilding 4th layer:')\n",
        "    h4 = fc_layer(h3_drop, name='fc_4', n_output_units=10, activation_fn=None)\n",
        "    \n",
        "    predictions = {\n",
        "        'probabilities': tf.nn.softmax(h4, name='probabilities'),\n",
        "        'labels': tf.cast(tf.argmax(h4, axis=1), tf.int32, name='labels')\n",
        "    }\n",
        "    \n",
        "    cross_entropy_loss = tf.reduce_mean(tf.nn.softmax_cross_entropy_with_logits(logits=h4, labels=tf_y_onehot), name='cross_entropy_loss')\n",
        "    \n",
        "    optimizer = tf.train.AdamOptimizer(learning_rate)\n",
        "    optimizer = optimizer.minimize(cross_entropy_loss, name='train_op')\n",
        "    \n",
        "    correct_predictions = tf.equal(predictions['labels'], tf_y, name='correct_preds')\n",
        "    accuracy = tf.reduce_mean(tf.cast(correct_predictions, tf.float32), name='accuracy')"
      ],
      "execution_count": 0,
      "outputs": []
    },
    {
      "metadata": {
        "id": "i1XSlnP37Jjf",
        "colab_type": "code",
        "colab": {}
      },
      "cell_type": "code",
      "source": [
        "import os\n",
        "\n",
        "def save(saver, sess, epoch, path='./model'):\n",
        "    if not os.path.isdir(path):\n",
        "        os.makedirs(path)\n",
        "    print('Savingm model in %s' % path)\n",
        "    saver.save(sess, os.path.join(path, 'cnn-model.ckpt'), global_step=epoch)\n",
        "    \n",
        "def load(saver, sess, path, epoch):\n",
        "    print('Loading model from %s' % path)\n",
        "    saver.restore(sess, os.path.join(path, 'cnn-model.ckpt-%d' % epoch))\n",
        "    \n",
        "def train(sess, training_set, validation_set=None, initialize=True, epochs=20, shuffle=True, dropout=0.5, random_seed=None):\n",
        "    X_data = np.array(training_set[0])\n",
        "    y_data = np.array(training_set[1])\n",
        "    training_loss = []\n",
        "    \n",
        "    if initialize:\n",
        "        sess.run(tf.global_variables_initializer())\n",
        "        \n",
        "    np.random.seed(random_seed)\n",
        "    \n",
        "    for epoch in range(1, epochs+1):\n",
        "        batch_gen = batch_generator(X_data, y_data, shuffle=shuffle)\n",
        "        avg_loss = 0.0\n",
        "        for i, (batch_x, batch_y) in enumerate(batch_gen):\n",
        "            feed = {'tf_x:0': batch_x, 'tf_y:0': batch_y, 'fc_keep_prob:0': dropout}\n",
        "            loss, _ = sess.run(['cross_entropy_loss:0', 'train_op'], feed_dict=feed)\n",
        "            avg_loss += loss\n",
        "            \n",
        "        training_loss.append(avg_loss / (i+1))\n",
        "        print('Epoch %02d Training Avg. Loss: %7.3f' % (epoch, avg_loss), end=' ')\n",
        "        \n",
        "        if validation_set is not None:\n",
        "            feed = {'tf_x:0': validation_set[0], 'tf_y:0': validation_set[1], 'fc_keep_prob:0': 1.0}\n",
        "            valid_acc = sess.run('accuracy:0', feed_dict=feed)\n",
        "            print('Validation Acc: %7.3f' % valid_acc)\n",
        "        else:\n",
        "            print()\n",
        "            \n",
        "def predict(sess, X_test, return_proba=False):\n",
        "    feed = {'tf_x:0': X_test, 'fc_keep_prob:0': 1.0}\n",
        "    if return_proba:\n",
        "        return sess.run(['probabilities:0'], feed_dict=feed)\n",
        "    else:\n",
        "        return sess.run(['labels:0'], feed_dict=feed)"
      ],
      "execution_count": 0,
      "outputs": []
    },
    {
      "metadata": {
        "id": "X4mUBk947Jv3",
        "colab_type": "code",
        "outputId": "5fb337bb-ecdb-4ea4-8d8a-2d5c04d304c3",
        "colab": {
          "base_uri": "https://localhost:8080/",
          "height": 476
        }
      },
      "cell_type": "code",
      "source": [
        "learning_rate = 1e-4\n",
        "random_seed = 123\n",
        "\n",
        "g = tf.Graph()\n",
        "with g.as_default():\n",
        "    tf.set_random_seed(random_seed)\n",
        "    \n",
        "    build_cnn()\n",
        "    saver = tf.train.Saver()"
      ],
      "execution_count": 0,
      "outputs": [
        {
          "output_type": "stream",
          "text": [
            "\n",
            "Building 1st layer:\n",
            "<tf.Variable 'conv_1/_weights:0' shape=(5, 5, 1, 32) dtype=float32_ref>\n",
            "<tf.Variable 'conv_1/_biases:0' shape=(32,) dtype=float32_ref>\n",
            "Tensor(\"conv_1/Conv2D:0\", shape=(?, 24, 24, 32), dtype=float32)\n",
            "Tensor(\"conv_1/net_pre-activation:0\", shape=(?, 24, 24, 32), dtype=float32)\n",
            "Tensor(\"conv_1/activation:0\", shape=(?, 24, 24, 32), dtype=float32)\n",
            "\n",
            "Building 2nd layer:\n",
            "<tf.Variable 'conv_2/_weights:0' shape=(5, 5, 32, 64) dtype=float32_ref>\n",
            "<tf.Variable 'conv_2/_biases:0' shape=(64,) dtype=float32_ref>\n",
            "Tensor(\"conv_2/Conv2D:0\", shape=(?, 8, 8, 64), dtype=float32)\n",
            "Tensor(\"conv_2/net_pre-activation:0\", shape=(?, 8, 8, 64), dtype=float32)\n",
            "Tensor(\"conv_2/activation:0\", shape=(?, 8, 8, 64), dtype=float32)\n",
            "\n",
            "Builiding 3rd layer:\n",
            "<tf.Variable 'fc_3/_weights:0' shape=(1024, 1024) dtype=float32_ref>\n",
            "<tf.Variable 'fc_3/_biases:0' shape=(1024,) dtype=float32_ref>\n",
            "Tensor(\"fc_3/MatMul:0\", shape=(?, 1024), dtype=float32)\n",
            "Tensor(\"fc_3/MatMul:0\", shape=(?, 1024), dtype=float32)\n",
            "Tensor(\"fc_3/activation:0\", shape=(?, 1024), dtype=float32)\n",
            "\n",
            "Building 4th layer:\n",
            "<tf.Variable 'fc_4/_weights:0' shape=(4096, 10) dtype=float32_ref>\n",
            "<tf.Variable 'fc_4/_biases:0' shape=(10,) dtype=float32_ref>\n",
            "Tensor(\"fc_4/MatMul:0\", shape=(?, 10), dtype=float32)\n",
            "Tensor(\"fc_4/MatMul:0\", shape=(?, 10), dtype=float32)\n"
          ],
          "name": "stdout"
        }
      ]
    },
    {
      "metadata": {
        "id": "2k177fxTeFMF",
        "colab_type": "code",
        "outputId": "c01d548e-5ba4-4faf-e040-aebb819bee31",
        "colab": {
          "base_uri": "https://localhost:8080/",
          "height": 374
        }
      },
      "cell_type": "code",
      "source": [
        "with tf.Session(graph=g) as sess:\n",
        "    train(sess, training_set=(X_train_centered, y_train), validation_set=(X_valid_centered, y_valid), initialize=True, random_seed=123)\n",
        "    save(saver, sess, epoch=20)"
      ],
      "execution_count": 0,
      "outputs": [
        {
          "output_type": "stream",
          "text": [
            "Epoch 01 Training Avg. Loss: 407.350 Validation Acc:   0.952\n",
            "Epoch 02 Training Avg. Loss: 131.646 Validation Acc:   0.974\n",
            "Epoch 03 Training Avg. Loss:  86.245 Validation Acc:   0.979\n",
            "Epoch 04 Training Avg. Loss:  65.441 Validation Acc:   0.983\n",
            "Epoch 05 Training Avg. Loss:  54.789 Validation Acc:   0.985\n",
            "Epoch 06 Training Avg. Loss:  46.763 Validation Acc:   0.986\n",
            "Epoch 07 Training Avg. Loss:  40.949 Validation Acc:   0.986\n",
            "Epoch 08 Training Avg. Loss:  37.383 Validation Acc:   0.988\n",
            "Epoch 09 Training Avg. Loss:  32.935 Validation Acc:   0.988\n",
            "Epoch 10 Training Avg. Loss:  32.085 Validation Acc:   0.988\n",
            "Epoch 11 Training Avg. Loss:  28.118 Validation Acc:   0.988\n",
            "Epoch 12 Training Avg. Loss:  25.795 Validation Acc:   0.990\n",
            "Epoch 13 Training Avg. Loss:  24.314 Validation Acc:   0.989\n",
            "Epoch 14 Training Avg. Loss:  23.191 Validation Acc:   0.990\n",
            "Epoch 15 Training Avg. Loss:  21.003 Validation Acc:   0.988\n",
            "Epoch 16 Training Avg. Loss:  20.239 Validation Acc:   0.990\n",
            "Epoch 17 Training Avg. Loss:  18.203 Validation Acc:   0.990\n",
            "Epoch 18 Training Avg. Loss:  17.354 Validation Acc:   0.990\n",
            "Epoch 19 Training Avg. Loss:  16.526 Validation Acc:   0.990\n",
            "Epoch 20 Training Avg. Loss:  16.427 Validation Acc:   0.991\n",
            "Savingm model in ./model\n"
          ],
          "name": "stdout"
        }
      ]
    },
    {
      "metadata": {
        "id": "LDm2NmEn_Jyl",
        "colab_type": "code",
        "outputId": "50daeccd-f9da-41e6-8016-a53432c06eed",
        "colab": {
          "base_uri": "https://localhost:8080/",
          "height": 476
        }
      },
      "cell_type": "code",
      "source": [
        "# del g\n",
        "\n",
        "g2 = tf.Graph()\n",
        "\n",
        "with g2.as_default():\n",
        "    tf.set_random_seed(random_seed)\n",
        "    build_cnn()\n",
        "    saver = tf.train.Saver()"
      ],
      "execution_count": 0,
      "outputs": [
        {
          "output_type": "stream",
          "text": [
            "\n",
            "Building 1st layer:\n",
            "<tf.Variable 'conv_1/_weights:0' shape=(5, 5, 1, 32) dtype=float32_ref>\n",
            "<tf.Variable 'conv_1/_biases:0' shape=(32,) dtype=float32_ref>\n",
            "Tensor(\"conv_1/Conv2D:0\", shape=(?, 24, 24, 32), dtype=float32)\n",
            "Tensor(\"conv_1/net_pre-activation:0\", shape=(?, 24, 24, 32), dtype=float32)\n",
            "Tensor(\"conv_1/activation:0\", shape=(?, 24, 24, 32), dtype=float32)\n",
            "\n",
            "Building 2nd layer:\n",
            "<tf.Variable 'conv_2/_weights:0' shape=(5, 5, 32, 64) dtype=float32_ref>\n",
            "<tf.Variable 'conv_2/_biases:0' shape=(64,) dtype=float32_ref>\n",
            "Tensor(\"conv_2/Conv2D:0\", shape=(?, 8, 8, 64), dtype=float32)\n",
            "Tensor(\"conv_2/net_pre-activation:0\", shape=(?, 8, 8, 64), dtype=float32)\n",
            "Tensor(\"conv_2/activation:0\", shape=(?, 8, 8, 64), dtype=float32)\n",
            "\n",
            "Builiding 3rd layer:\n",
            "<tf.Variable 'fc_3/_weights:0' shape=(1024, 1024) dtype=float32_ref>\n",
            "<tf.Variable 'fc_3/_biases:0' shape=(1024,) dtype=float32_ref>\n",
            "Tensor(\"fc_3/MatMul:0\", shape=(?, 1024), dtype=float32)\n",
            "Tensor(\"fc_3/MatMul:0\", shape=(?, 1024), dtype=float32)\n",
            "Tensor(\"fc_3/activation:0\", shape=(?, 1024), dtype=float32)\n",
            "\n",
            "Building 4th layer:\n",
            "<tf.Variable 'fc_4/_weights:0' shape=(4096, 10) dtype=float32_ref>\n",
            "<tf.Variable 'fc_4/_biases:0' shape=(10,) dtype=float32_ref>\n",
            "Tensor(\"fc_4/MatMul:0\", shape=(?, 10), dtype=float32)\n",
            "Tensor(\"fc_4/MatMul:0\", shape=(?, 10), dtype=float32)\n"
          ],
          "name": "stdout"
        }
      ]
    },
    {
      "metadata": {
        "id": "E_wnO8YWeowV",
        "colab_type": "code",
        "outputId": "89b1b124-f7cc-4092-e77a-a0929b539b6a",
        "colab": {
          "base_uri": "https://localhost:8080/",
          "height": 68
        }
      },
      "cell_type": "code",
      "source": [
        "with tf.Session(graph=g2) as sess:\n",
        "    load(saver, sess, epoch=20, path='./model')\n",
        "    preds = predict(sess, X_test_centered, return_proba=False)\n",
        "    \n",
        "    print('Test Accuracy: %.3f%%' % (100 * np.sum(preds == y_test) / len(y_test)))"
      ],
      "execution_count": 0,
      "outputs": [
        {
          "output_type": "stream",
          "text": [
            "Loading model from ./model\n",
            "INFO:tensorflow:Restoring parameters from ./model/cnn-model.ckpt-20\n",
            "Test Accuracy: 99.160%\n"
          ],
          "name": "stdout"
        }
      ]
    },
    {
      "metadata": {
        "id": "wCYQP-v3gku8",
        "colab_type": "code",
        "outputId": "a9f77c8a-65a8-4d7b-e918-ae35565d4c9e",
        "colab": {
          "base_uri": "https://localhost:8080/",
          "height": 255
        }
      },
      "cell_type": "code",
      "source": [
        "np.set_printoptions(precision=2, suppress=True)\n",
        "\n",
        "with tf.Session(graph=g2) as sess:\n",
        "    load(saver, sess, epoch=20, path='./model')\n",
        "    print(predict(sess, X_test_centered[:10], return_proba=False))\n",
        "    print(predict(sess, X_test_centered[:10], return_proba=True))"
      ],
      "execution_count": 0,
      "outputs": [
        {
          "output_type": "stream",
          "text": [
            "Loading model from ./model\n",
            "INFO:tensorflow:Restoring parameters from ./model/cnn-model.ckpt-20\n",
            "[array([7, 2, 1, 0, 4, 1, 4, 9, 5, 9], dtype=int32)]\n",
            "[array([[0.  , 0.  , 0.  , 0.  , 0.  , 0.  , 0.  , 1.  , 0.  , 0.  ],\n",
            "       [0.  , 0.  , 1.  , 0.  , 0.  , 0.  , 0.  , 0.  , 0.  , 0.  ],\n",
            "       [0.  , 1.  , 0.  , 0.  , 0.  , 0.  , 0.  , 0.  , 0.  , 0.  ],\n",
            "       [1.  , 0.  , 0.  , 0.  , 0.  , 0.  , 0.  , 0.  , 0.  , 0.  ],\n",
            "       [0.  , 0.  , 0.  , 0.  , 1.  , 0.  , 0.  , 0.  , 0.  , 0.  ],\n",
            "       [0.  , 1.  , 0.  , 0.  , 0.  , 0.  , 0.  , 0.  , 0.  , 0.  ],\n",
            "       [0.  , 0.  , 0.  , 0.  , 1.  , 0.  , 0.  , 0.  , 0.  , 0.  ],\n",
            "       [0.  , 0.  , 0.  , 0.  , 0.  , 0.  , 0.  , 0.  , 0.  , 1.  ],\n",
            "       [0.  , 0.  , 0.  , 0.  , 0.  , 0.98, 0.02, 0.  , 0.  , 0.  ],\n",
            "       [0.  , 0.  , 0.  , 0.  , 0.  , 0.  , 0.  , 0.  , 0.  , 1.  ]],\n",
            "      dtype=float32)]\n"
          ],
          "name": "stdout"
        }
      ]
    },
    {
      "metadata": {
        "id": "x3oioXBYhC27",
        "colab_type": "code",
        "outputId": "3a76efb2-3351-4e5e-d45c-3c9aa8dbc48f",
        "colab": {
          "base_uri": "https://localhost:8080/",
          "height": 425
        }
      },
      "cell_type": "code",
      "source": [
        "with tf.Session(graph=g2) as sess:\n",
        "    load(saver, sess, epoch=20, path='./model/')\n",
        "    \n",
        "    train(sess, training_set=(X_train_centered, y_train), validation_set=(X_valid_centered, y_valid), initialize=False, epochs=20, random_seed=123)\n",
        "    \n",
        "    save(saver, sess, epoch=40, path='./model/')\n",
        "    preds = predict(sess, X_test_centered, return_proba=False)\n",
        "    print('Test Accuracy: %.3f%%' % (100 * np.sum(preds == y_test) / len(y_test)))"
      ],
      "execution_count": 0,
      "outputs": [
        {
          "output_type": "stream",
          "text": [
            "Loading model from ./model/\n",
            "INFO:tensorflow:Restoring parameters from ./model/cnn-model.ckpt-20\n",
            "Epoch 01 Training Avg. Loss:  14.725 Validation Acc:   0.991\n",
            "Epoch 02 Training Avg. Loss:  14.255 Validation Acc:   0.991\n",
            "Epoch 03 Training Avg. Loss:  13.308 Validation Acc:   0.991\n",
            "Epoch 04 Training Avg. Loss:  12.604 Validation Acc:   0.992\n",
            "Epoch 05 Training Avg. Loss:  11.944 Validation Acc:   0.990\n",
            "Epoch 06 Training Avg. Loss:  11.210 Validation Acc:   0.991\n",
            "Epoch 07 Training Avg. Loss:  11.444 Validation Acc:   0.992\n",
            "Epoch 08 Training Avg. Loss:  10.493 Validation Acc:   0.992\n",
            "Epoch 09 Training Avg. Loss:  10.111 Validation Acc:   0.992\n",
            "Epoch 10 Training Avg. Loss:   9.306 Validation Acc:   0.992\n",
            "Epoch 11 Training Avg. Loss:   9.925 Validation Acc:   0.992\n",
            "Epoch 12 Training Avg. Loss:   8.840 Validation Acc:   0.991\n",
            "Epoch 13 Training Avg. Loss:   9.145 Validation Acc:   0.992\n",
            "Epoch 14 Training Avg. Loss:   8.601 Validation Acc:   0.992\n",
            "Epoch 15 Training Avg. Loss:   7.844 Validation Acc:   0.992\n",
            "Epoch 16 Training Avg. Loss:   7.763 Validation Acc:   0.992\n",
            "Epoch 17 Training Avg. Loss:   7.304 Validation Acc:   0.993\n",
            "Epoch 18 Training Avg. Loss:   6.744 Validation Acc:   0.992\n",
            "Epoch 19 Training Avg. Loss:   6.545 Validation Acc:   0.993\n",
            "Epoch 20 Training Avg. Loss:   6.189 Validation Acc:   0.992\n",
            "Savingm model in ./model/\n",
            "Test Accuracy: 99.330%\n"
          ],
          "name": "stdout"
        }
      ]
    },
    {
      "metadata": {
        "id": "dMrlWo3WiIhv",
        "colab_type": "code",
        "colab": {}
      },
      "cell_type": "code",
      "source": [
        "import tensorflow as tf\n",
        "import numpy as np\n",
        "\n",
        "class ConvNN(object):\n",
        "    def __init__(self, batchsize=64, epochs=20, learning_rate=1e-4, dropout_rate=0.5, shuffle=True, random_seed=None):\n",
        "        np.random.seed(random_seed)\n",
        "        \n",
        "        self.batchsize = batchsize\n",
        "        self.epochs = epochs\n",
        "        self.learning_rate = learning_rate\n",
        "        self.dropout_rate = dropout_rate\n",
        "        self.shuffle = shuffle\n",
        "        \n",
        "        g = tf.Graph()\n",
        "        with g.as_default():\n",
        "            tf.set_random_seed(random_seed)\n",
        "            self.build()\n",
        "            self.init_op = tf.global_variables_initializer()\n",
        "            \n",
        "            self.saver = tf.train.Saver()\n",
        "        \n",
        "        self.sess = tf.Session(graph=g)\n",
        "    \n",
        "    def build(self):\n",
        "        tf_x = tf.placeholder(tf.float32, shape=[None, 784], name='tf_x')\n",
        "        tf_y = tf.placeholder(tf.int32, shape=[None], name='tf_y')\n",
        "        is_train = tf.placeholder(tf.bool, shape=(), name='is_train')\n",
        "        \n",
        "        tf_x_image = tf.reshape(tf_x, shape=[-1, 28, 28, 1], name='input_x_2dimages')\n",
        "        tf_y_onehot = tf.one_hot(indices=tf_y, depth=10, dtype=tf.float32, name='input_y_onehot')\n",
        "        \n",
        "        h1 = tf.layers.conv2d(tf_x_image, kernel_size=(5, 5), filters=32, activation=tf.nn.relu)\n",
        "        h1_pool = tf.layers.max_pooling2d(h1, pool_size=(2, 2), strides=(2, 2))\n",
        "        \n",
        "        h2 = tf.layers.conv2d(h1_pool, kernel_size=(5, 5),  filters=64, activation=tf.nn.relu)\n",
        "        h2_pool = tf.layers.max_pooling2d(h2, pool_size=(2, 2), strides=(2, 2))\n",
        "        \n",
        "        input_shape = h2_pool.get_shape().as_list()\n",
        "        n_input_units = np.prod(input_shape[1:])\n",
        "        h2_pool_flat = tf.reshape(h2_pool, shape=[-1, n_input_units])\n",
        "        h3 = tf.layers.dense(h2_pool_flat, 1024, activation=tf.nn.relu)\n",
        "        \n",
        "        h3_drop = tf.layers.dropout(h3, rate=self.dropout_rate, training=is_train)\n",
        "        \n",
        "        h4 = tf.layers.dense(h3_drop, 10, activation=None)\n",
        "        \n",
        "        predictions = {\n",
        "            'probabilities': tf.nn.softmax(h4, name='probabilities'),\n",
        "            'labels': tf.cast(tf.argmax(h4, axis=1), tf.int32, name='labels')\n",
        "        }\n",
        "        \n",
        "        cross_entropy_loss = tf.reduce_mean(\n",
        "            tf.nn.softmax_cross_entropy_with_logits(\n",
        "                logits=h4,\n",
        "                labels=tf_y_onehot),\n",
        "            name='cross_entropy_loss')\n",
        "        \n",
        "        optimizer = tf.train.AdamOptimizer(self.learning_rate)\n",
        "        optimizer = optimizer.minimize(cross_entropy_loss, name='train_op')\n",
        "        \n",
        "        correct_predictions = tf.equal(predictions['labels'], tf_y, name='correct_preds')\n",
        "        accuracy = tf.reduce_mean(tf.cast(correct_predictions, tf.float32), name='accuracy')\n",
        "        \n",
        "    def save(self, epoch, path='./tflayers-model'):\n",
        "        if not os.path.isdir(path):\n",
        "            os.makedirs(path)\n",
        "            \n",
        "        print('Saving model in %s' % path)\n",
        "        self.saver.save(self.sess, os.path.join(path, 'model.ckpt'), global_step=epoch)\n",
        "        \n",
        "    def load(self, epoch, path):\n",
        "        print('Loading model from %s' % path)\n",
        "        self.saver.restore(self.sess, os.path.join(path, 'model.ckpt-%d' % epoch))\n",
        "    \n",
        "    def train(self, training_set, validation_set, initialize=True):\n",
        "        if initialize:\n",
        "            self.sess.run(self.init_op)\n",
        "        \n",
        "        X_data = np.array(training_set[0])\n",
        "        y_data = np.array(training_set[1])\n",
        "        \n",
        "        for epoch in range(1, self.epochs + 1):\n",
        "            batch_gen = batch_generator(X_data, y_data, shuffle=self.shuffle)\n",
        "            avg_loss = 0.0\n",
        "            for i, (batch_x, batch_y) in enumerate(batch_gen):\n",
        "                feed = {'tf_x:0': batch_x, 'tf_y:0': batch_y, 'is_train:0': True}\n",
        "                loss, _ = self.sess.run(['cross_entropy_loss:0', 'train_op'], feed_dict=feed)\n",
        "                avg_loss += loss\n",
        "                \n",
        "            print('Epoch %02d: Training Avg. Loss: %7.3f' % (epoch, avg_loss), end=' ')\n",
        "            \n",
        "            if validation_set is not None:\n",
        "                feed = {'tf_x:0': batch_x, 'tf_y:0': batch_y, 'is_train:0': False}\n",
        "                valid_acc = self.sess.run('accuracy:0', feed_dict=feed)\n",
        "                print('Validation Acc: %7.3f' % valid_acc)\n",
        "            else:\n",
        "                print()\n",
        "\n",
        "    def predict(self, X_test, return_proba=False):\n",
        "        feed = {'tf_x:0': X_test, 'is_train:0': False}\n",
        "        if return_proba:\n",
        "            return self.sess.run('probabilities:0', feed_dict=feed)\n",
        "        else:\n",
        "            return self.sess.run('labels:0', feed_dict=feed)"
      ],
      "execution_count": 0,
      "outputs": []
    },
    {
      "metadata": {
        "id": "GDdaiRDdqnfx",
        "colab_type": "code",
        "outputId": "b029fa4d-eda0-4868-8a11-e6f22b53cd23",
        "colab": {
          "base_uri": "https://localhost:8080/",
          "height": 374
        }
      },
      "cell_type": "code",
      "source": [
        "cnn = ConvNN(random_seed=123)\n",
        "\n",
        "cnn.train(training_set=(X_train_centered, y_train), validation_set=(X_valid_centered, y_valid))\n",
        "cnn.save(epoch=20)"
      ],
      "execution_count": 0,
      "outputs": [
        {
          "output_type": "stream",
          "text": [
            "Epoch 01: Training Avg. Loss: 263.841 Validation Acc:   1.000\n",
            "Epoch 02: Training Avg. Loss:  73.740 Validation Acc:   0.938\n",
            "Epoch 03: Training Avg. Loss:  50.591 Validation Acc:   1.000\n",
            "Epoch 04: Training Avg. Loss:  38.356 Validation Acc:   1.000\n",
            "Epoch 05: Training Avg. Loss:  32.346 Validation Acc:   1.000\n",
            "Epoch 06: Training Avg. Loss:  26.553 Validation Acc:   1.000\n",
            "Epoch 07: Training Avg. Loss:  23.035 Validation Acc:   1.000\n",
            "Epoch 08: Training Avg. Loss:  20.123 Validation Acc:   0.938\n",
            "Epoch 09: Training Avg. Loss:  17.105 Validation Acc:   1.000\n",
            "Epoch 10: Training Avg. Loss:  14.877 Validation Acc:   1.000\n",
            "Epoch 11: Training Avg. Loss:  13.229 Validation Acc:   1.000\n",
            "Epoch 12: Training Avg. Loss:  11.022 Validation Acc:   1.000\n",
            "Epoch 13: Training Avg. Loss:   9.762 Validation Acc:   1.000\n",
            "Epoch 14: Training Avg. Loss:   9.137 Validation Acc:   1.000\n",
            "Epoch 15: Training Avg. Loss:   8.221 Validation Acc:   1.000\n",
            "Epoch 16: Training Avg. Loss:   6.667 Validation Acc:   1.000\n",
            "Epoch 17: Training Avg. Loss:   6.420 Validation Acc:   1.000\n",
            "Epoch 18: Training Avg. Loss:   6.068 Validation Acc:   1.000\n",
            "Epoch 19: Training Avg. Loss:   5.594 Validation Acc:   1.000\n",
            "Epoch 20: Training Avg. Loss:   4.738 Validation Acc:   1.000\n",
            "Saving model in ./tflayers-model\n"
          ],
          "name": "stdout"
        }
      ]
    },
    {
      "metadata": {
        "id": "XcvX9fnnvlIs",
        "colab_type": "code",
        "outputId": "7715b404-e7ac-401c-a886-e07a7049fd5b",
        "colab": {
          "base_uri": "https://localhost:8080/",
          "height": 139
        }
      },
      "cell_type": "code",
      "source": [
        "del cnn\n",
        "\n",
        "cnn2 = ConvNN(random_seed=123)\n",
        "cnn2.load(epoch=20, path='./tflayers-model/')\n",
        "print(cnn2.predict(X_test_centered[:10, :]))"
      ],
      "execution_count": 0,
      "outputs": [
        {
          "output_type": "stream",
          "text": [
            "Loading model from ./tflayers-model/\n",
            "WARNING:tensorflow:From /usr/local/lib/python3.6/dist-packages/tensorflow/python/training/saver.py:1266: checkpoint_exists (from tensorflow.python.training.checkpoint_management) is deprecated and will be removed in a future version.\n",
            "Instructions for updating:\n",
            "Use standard file APIs to check for files with this prefix.\n",
            "INFO:tensorflow:Restoring parameters from ./tflayers-model/model.ckpt-20\n",
            "[7 2 1 0 4 1 4 9 5 9]\n"
          ],
          "name": "stdout"
        }
      ]
    },
    {
      "metadata": {
        "id": "gOFVrabgv405",
        "colab_type": "code",
        "outputId": "0c5b2c4a-ab7d-49ac-aa2f-8d386f7e3d76",
        "colab": {
          "base_uri": "https://localhost:8080/",
          "height": 34
        }
      },
      "cell_type": "code",
      "source": [
        "preds = cnn2.predict(X_test_centered)\n",
        "print('Test Accuracy: %.2f%%' % (100 * np.sum(y_test == preds) / len(y_test)))"
      ],
      "execution_count": 0,
      "outputs": [
        {
          "output_type": "stream",
          "text": [
            "Test Accuracy: 99.30%\n"
          ],
          "name": "stdout"
        }
      ]
    }
  ]
}