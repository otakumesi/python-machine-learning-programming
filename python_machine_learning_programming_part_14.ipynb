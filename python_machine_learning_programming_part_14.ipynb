{
  "nbformat": 4,
  "nbformat_minor": 0,
  "metadata": {
    "colab": {
      "name": "python_machine_learning_programming_part_14.ipynb",
      "version": "0.3.2",
      "provenance": [],
      "collapsed_sections": [],
      "include_colab_link": true
    },
    "kernelspec": {
      "name": "python3",
      "display_name": "Python 3"
    }
  },
  "cells": [
    {
      "cell_type": "markdown",
      "metadata": {
        "id": "view-in-github",
        "colab_type": "text"
      },
      "source": [
        "<a href=\"https://colab.research.google.com/github/otakumesi/python-machine-learning-programming/blob/master/python_machine_learning_programming_part_14.ipynb\" target=\"_parent\"><img src=\"https://colab.research.google.com/assets/colab-badge.svg\" alt=\"Open In Colab\"/></a>"
      ]
    },
    {
      "metadata": {
        "id": "reHhYlcWCmb8",
        "colab_type": "code",
        "colab": {
          "base_uri": "https://localhost:8080/",
          "height": 34
        },
        "outputId": "44fe3e84-fa67-4a8f-d41c-ec7dcadb3812"
      },
      "cell_type": "code",
      "source": [
        "import tensorflow as tf\n",
        "\n",
        "print(tf.__version__)"
      ],
      "execution_count": 3,
      "outputs": [
        {
          "output_type": "stream",
          "text": [
            "1.13.1\n"
          ],
          "name": "stdout"
        }
      ]
    },
    {
      "metadata": {
        "id": "JXup7QKrEeQj",
        "colab_type": "code",
        "colab": {
          "base_uri": "https://localhost:8080/",
          "height": 139
        },
        "outputId": "36bdd3fd-9dd9-46fa-9ffd-230f36527ba8"
      },
      "cell_type": "code",
      "source": [
        "import tensorflow as tf\n",
        "\n",
        "g = tf.Graph()\n",
        "with g.as_default():\n",
        "    x = tf.placeholder(dtype=tf.float32, shape=None, name='x')\n",
        "    w = tf.Variable(2.0, name='weight')\n",
        "    b = tf.Variable(0.7, name='bias')\n",
        "    z = w * x + b\n",
        "    init = tf.global_variables_initializer()\n",
        "\n",
        "with tf.Session(graph=g) as sess:\n",
        "    sess.run(init)\n",
        "    for t in [1.0, 0.6, -1.8]:\n",
        "        print('x=%4.1f ---> z=%4.1f' % (t, sess.run(z, feed_dict={x: t})))"
      ],
      "execution_count": 4,
      "outputs": [
        {
          "output_type": "stream",
          "text": [
            "WARNING:tensorflow:From /usr/local/lib/python3.6/dist-packages/tensorflow/python/framework/op_def_library.py:263: colocate_with (from tensorflow.python.framework.ops) is deprecated and will be removed in a future version.\n",
            "Instructions for updating:\n",
            "Colocations handled automatically by placer.\n",
            "x= 1.0 ---> z= 2.7\n",
            "x= 0.6 ---> z= 1.9\n",
            "x=-1.8 ---> z=-2.9\n"
          ],
          "name": "stdout"
        }
      ]
    },
    {
      "metadata": {
        "id": "NntTtQuTG-11",
        "colab_type": "code",
        "colab": {
          "base_uri": "https://localhost:8080/",
          "height": 170
        },
        "outputId": "a80053d1-b753-4dd7-f8ad-516cb2362d9b"
      },
      "cell_type": "code",
      "source": [
        "import tensorflow as tf\n",
        "import numpy as np\n",
        "\n",
        "g = tf.Graph()\n",
        "\n",
        "with g.as_default():\n",
        "    x = tf.placeholder(dtype=tf.float32, shape=[None, 2, 3], name='input_x')\n",
        "    x2 = tf.reshape(x, shape=(-1, 6), name='x2')\n",
        "    \n",
        "    xsum = tf.reduce_sum(x2, axis=0, name='col_sum')\n",
        "    xmean = tf.reduce_mean(x2, axis=0, name='col_mean')\n",
        "    \n",
        "with tf.Session(graph=g) as sess:\n",
        "    x_array = np.arange(18).reshape(3, 2, 3)\n",
        "    print('input shape: ', x_array.shape)\n",
        "    print('Reshaped: \\n', sess.run(x2, feed_dict={x: x_array}))\n",
        "    print('Column Sums: \\n', sess.run(xsum, feed_dict={x: x_array}))\n",
        "    print('Column Means: \\n', sess.run(xmean, feed_dict={x: x_array}))"
      ],
      "execution_count": 5,
      "outputs": [
        {
          "output_type": "stream",
          "text": [
            "input shape:  (3, 2, 3)\n",
            "Reshaped: \n",
            " [[ 0.  1.  2.  3.  4.  5.]\n",
            " [ 6.  7.  8.  9. 10. 11.]\n",
            " [12. 13. 14. 15. 16. 17.]]\n",
            "Column Sums: \n",
            " [18. 21. 24. 27. 30. 33.]\n",
            "Column Means: \n",
            " [ 6.  7.  8.  9. 10. 11.]\n"
          ],
          "name": "stdout"
        }
      ]
    },
    {
      "metadata": {
        "id": "krBDDphLKqKb",
        "colab_type": "code",
        "colab": {}
      },
      "cell_type": "code",
      "source": [
        "X_train = np.arange(10).reshape((10, 1))\n",
        "y_train = np.array([1.0, 1.3, 3.1, 2.0, 5.0, 6.3, 6.6, 7.4, 8.0, 9.0])"
      ],
      "execution_count": 0,
      "outputs": []
    },
    {
      "metadata": {
        "id": "EaiEmvkAK-qL",
        "colab_type": "code",
        "colab": {}
      },
      "cell_type": "code",
      "source": [
        "import tensorflow as tf\n",
        "\n",
        "class TfLinreg(object):\n",
        "    def __init__(self, x_dim, learning_rate=0.1, random_seed=None):\n",
        "        self.x_dim = x_dim\n",
        "        self.learning_rate=learning_rate\n",
        "        self.g = tf.Graph()\n",
        "        \n",
        "        with self.g.as_default():\n",
        "            tf.set_random_seed(random_seed)\n",
        "            self.build()\n",
        "            self.init_op = tf.global_variables_initializer()\n",
        "            \n",
        "    def build(self):\n",
        "        self.X = tf.placeholder(dtype=tf.float32, shape=(None, self.x_dim), name='x_input')\n",
        "        self.y = tf.placeholder(dtype=tf.float32, shape=(None), name='y_input')\n",
        "        \n",
        "        print(self.X)\n",
        "        print(self.y)\n",
        "        \n",
        "        w = tf.Variable(tf.zeros(shape=(1)), name='weight')\n",
        "        b = tf.Variable(tf.zeros(shape=(1)), name='bias')\n",
        "        print(w)\n",
        "        print(b)\n",
        "        \n",
        "        self.z_net = tf.squeeze(w * self.X + b, name='z_net')\n",
        "        print(self.z_net)\n",
        "        \n",
        "        sqr_errors = tf.square(self.y - self.z_net, name='sqr_errors')\n",
        "        print(sqr_errors)\n",
        "        self.mean_cost = tf.reduce_mean(sqr_errors, name='sqr_means')\n",
        "        \n",
        "        optimizer = tf.train.GradientDescentOptimizer(\n",
        "            learning_rate=self.learning_rate,\n",
        "            name='GradientDescent'\n",
        "        )\n",
        "        self.optimizer = optimizer.minimize(self.mean_cost)"
      ],
      "execution_count": 0,
      "outputs": []
    },
    {
      "metadata": {
        "id": "a7tu9_3YOBE_",
        "colab_type": "code",
        "colab": {
          "base_uri": "https://localhost:8080/",
          "height": 170
        },
        "outputId": "86c3d3e5-d4f1-471a-d3d1-af7a9d3da4b9"
      },
      "cell_type": "code",
      "source": [
        "lrmodel = TfLinreg(x_dim=X_train.shape[1], learning_rate=0.01)"
      ],
      "execution_count": 8,
      "outputs": [
        {
          "output_type": "stream",
          "text": [
            "Tensor(\"x_input:0\", shape=(?, 1), dtype=float32)\n",
            "Tensor(\"y_input:0\", dtype=float32)\n",
            "<tf.Variable 'weight:0' shape=(1,) dtype=float32_ref>\n",
            "<tf.Variable 'bias:0' shape=(1,) dtype=float32_ref>\n",
            "Tensor(\"z_net:0\", dtype=float32)\n",
            "Tensor(\"sqr_errors:0\", dtype=float32)\n",
            "WARNING:tensorflow:From /usr/local/lib/python3.6/dist-packages/tensorflow/python/ops/math_ops.py:3066: to_int32 (from tensorflow.python.ops.math_ops) is deprecated and will be removed in a future version.\n",
            "Instructions for updating:\n",
            "Use tf.cast instead.\n"
          ],
          "name": "stdout"
        }
      ]
    },
    {
      "metadata": {
        "id": "gK7Y1367PQsD",
        "colab_type": "code",
        "colab": {}
      },
      "cell_type": "code",
      "source": [
        "def train_linarg(sess, model, X_train, y_train, num_epochs=10):\n",
        "    sess.run(model.init_op)\n",
        "    \n",
        "    training_costs = []\n",
        "    for i in range(num_epochs):\n",
        "        _, cost = sess.run([model.optimizer, model.mean_cost], feed_dict={model.X:X_train, model.y: y_train})\n",
        "        training_costs.append(cost)\n",
        "        \n",
        "    return training_costs"
      ],
      "execution_count": 0,
      "outputs": []
    },
    {
      "metadata": {
        "id": "fhI3KsX4P6IF",
        "colab_type": "code",
        "colab": {}
      },
      "cell_type": "code",
      "source": [
        "sess = tf.Session(graph=lrmodel.g)\n",
        "training_costs = train_linarg(sess, lrmodel, X_train, y_train)"
      ],
      "execution_count": 0,
      "outputs": []
    },
    {
      "metadata": {
        "id": "hVVLWPmPQJbS",
        "colab_type": "code",
        "colab": {
          "base_uri": "https://localhost:8080/",
          "height": 415
        },
        "outputId": "19b5e26c-f003-44e0-fc50-5f42a75050ea"
      },
      "cell_type": "code",
      "source": [
        "import matplotlib.pyplot as plt\n",
        "plt.plot(range(1, len(training_costs) + 1), training_costs)\n",
        "plt.tight_layout()\n",
        "plt.xlabel('Epoch')\n",
        "plt.ylabel('Training Cost')\n",
        "plt.show()"
      ],
      "execution_count": 11,
      "outputs": [
        {
          "output_type": "display_data",
          "data": {
            "image/png": "[encoded data removed]",
            "text/plain": [
              "<Figure size 576x396 with 1 Axes>"
            ]
          },
          "metadata": {
            "tags": []
          }
        }
      ]
    },
    {
      "metadata": {
        "id": "YcV5riUnSph3",
        "colab_type": "code",
        "colab": {
          "base_uri": "https://localhost:8080/",
          "height": 765
        },
        "outputId": "588bc9ef-4bb6-4b54-b784-b16f87ff5394"
      },
      "cell_type": "code",
      "source": [
        "!wget http://yann.lecun.com/exdb/mnist/train-images-idx3-ubyte.gz\n",
        "!wget http://yann.lecun.com/exdb/mnist/train-labels-idx1-ubyte.gz\n",
        "!wget http://yann.lecun.com/exdb/mnist/t10k-images-idx3-ubyte.gz\n",
        "!wget http://yann.lecun.com/exdb/mnist/t10k-labels-idx1-ubyte.gz"
      ],
      "execution_count": 12,
      "outputs": [
        {
          "output_type": "stream",
          "text": [
            "--2019-03-09 13:13:56--  http://yann.lecun.com/exdb/mnist/train-images-idx3-ubyte.gz\n",
            "Resolving yann.lecun.com (yann.lecun.com)... 216.165.22.6\n",
            "Connecting to yann.lecun.com (yann.lecun.com)|216.165.22.6|:80... connected.\n",
            "HTTP request sent, awaiting response... 200 OK\n",
            "Length: 9912422 (9.5M) [application/x-gzip]\n",
            "Saving to: ‘train-images-idx3-ubyte.gz’\n",
            "\n",
            "\r          train-ima   0%[                    ]       0  --.-KB/s               \r         train-imag   1%[                    ] 101.22K   379KB/s               \r        train-image   7%[>                   ] 735.79K  1.43MB/s               \r       train-images  56%[==========>         ]   5.35M  7.31MB/s               \rtrain-images-idx3-u 100%[===================>]   9.45M  11.5MB/s    in 0.8s    \n",
            "\n",
            "2019-03-09 13:13:57 (11.5 MB/s) - ‘train-images-idx3-ubyte.gz’ saved [9912422/9912422]\n",
            "\n",
            "--2019-03-09 13:13:59--  http://yann.lecun.com/exdb/mnist/train-labels-idx1-ubyte.gz\n",
            "Resolving yann.lecun.com (yann.lecun.com)... 216.165.22.6\n",
            "Connecting to yann.lecun.com (yann.lecun.com)|216.165.22.6|:80... connected.\n",
            "HTTP request sent, awaiting response... 200 OK\n",
            "Length: 28881 (28K) [application/x-gzip]\n",
            "Saving to: ‘train-labels-idx1-ubyte.gz’\n",
            "\n",
            "train-labels-idx1-u 100%[===================>]  28.20K  --.-KB/s    in 0.08s   \n",
            "\n",
            "2019-03-09 13:14:00 (342 KB/s) - ‘train-labels-idx1-ubyte.gz’ saved [28881/28881]\n",
            "\n",
            "--2019-03-09 13:14:01--  http://yann.lecun.com/exdb/mnist/t10k-images-idx3-ubyte.gz\n",
            "Resolving yann.lecun.com (yann.lecun.com)... 216.165.22.6\n",
            "Connecting to yann.lecun.com (yann.lecun.com)|216.165.22.6|:80... connected.\n",
            "HTTP request sent, awaiting response... 200 OK\n",
            "Length: 1648877 (1.6M) [application/x-gzip]\n",
            "Saving to: ‘t10k-images-idx3-ubyte.gz’\n",
            "\n",
            "t10k-images-idx3-ub 100%[===================>]   1.57M  2.72MB/s    in 0.6s    \n",
            "\n",
            "2019-03-09 13:14:01 (2.72 MB/s) - ‘t10k-images-idx3-ubyte.gz’ saved [1648877/1648877]\n",
            "\n",
            "--2019-03-09 13:14:02--  http://yann.lecun.com/exdb/mnist/t10k-labels-idx1-ubyte.gz\n",
            "Resolving yann.lecun.com (yann.lecun.com)... 216.165.22.6\n",
            "Connecting to yann.lecun.com (yann.lecun.com)|216.165.22.6|:80... connected.\n",
            "HTTP request sent, awaiting response... 200 OK\n",
            "Length: 4542 (4.4K) [application/x-gzip]\n",
            "Saving to: ‘t10k-labels-idx1-ubyte.gz’\n",
            "\n",
            "t10k-labels-idx1-ub 100%[===================>]   4.44K  --.-KB/s    in 0s      \n",
            "\n",
            "2019-03-09 13:14:02 (352 MB/s) - ‘t10k-labels-idx1-ubyte.gz’ saved [4542/4542]\n",
            "\n"
          ],
          "name": "stdout"
        }
      ]
    },
    {
      "metadata": {
        "id": "oM4FnC88TJt7",
        "colab_type": "code",
        "colab": {}
      },
      "cell_type": "code",
      "source": [
        "!gzip *ubyte.gz -d"
      ],
      "execution_count": 0,
      "outputs": []
    },
    {
      "metadata": {
        "id": "iGjg5_xwTSG5",
        "colab_type": "code",
        "colab": {
          "base_uri": "https://localhost:8080/",
          "height": 51
        },
        "outputId": "87f5aea5-0de0-48f0-c276-f90f44e7f6ae"
      },
      "cell_type": "code",
      "source": [
        "!ls"
      ],
      "execution_count": 14,
      "outputs": [
        {
          "output_type": "stream",
          "text": [
            "sample_data\t\tt10k-labels-idx1-ubyte\t train-labels-idx1-ubyte\n",
            "t10k-images-idx3-ubyte\ttrain-images-idx3-ubyte\n"
          ],
          "name": "stdout"
        }
      ]
    },
    {
      "metadata": {
        "id": "jPqHDig2TTGN",
        "colab_type": "code",
        "colab": {}
      },
      "cell_type": "code",
      "source": [
        "import os\n",
        "import struct\n",
        "import numpy as np\n",
        "\n",
        "def load_mnist(path, kind='train'):\n",
        "    labels_path = os.path.join(path,  '%s-labels-idx1-ubyte' % kind)\n",
        "    images_path = os.path.join(path,  '%s-images-idx3-ubyte' % kind)\n",
        "    \n",
        "    with open(labels_path, 'rb') as lbpath:\n",
        "        magic, n = struct.unpack(\">II\", lbpath.read(8))\n",
        "        labels = np.fromfile(lbpath, dtype=np.uint8)\n",
        "        \n",
        "    with open(images_path, 'rb') as imgpath:\n",
        "        magic, num, rows, cols = struct.unpack(\">IIII\", imgpath.read(16))\n",
        "        images = np.fromfile(imgpath, dtype=np.uint8).reshape(len(labels), 784)\n",
        "        images = ((images / 255.) - .5) * 2\n",
        "        \n",
        "    return images,  labels"
      ],
      "execution_count": 0,
      "outputs": []
    },
    {
      "metadata": {
        "id": "jl_XhRtUTfdk",
        "colab_type": "code",
        "colab": {
          "base_uri": "https://localhost:8080/",
          "height": 51
        },
        "outputId": "bd4d1d98-39ed-4352-dc0d-5bc851aefe75"
      },
      "cell_type": "code",
      "source": [
        "X_train, y_train = load_mnist('', kind='train')\n",
        "print('Rows: %d, columns: %d' % (X_train.shape[0], X_train.shape[1]))\n",
        "\n",
        "X_test, y_test = load_mnist('', kind='t10k')\n",
        "print('Rows: %d, columns: %d' % (X_test.shape[0], X_test.shape[1]))"
      ],
      "execution_count": 16,
      "outputs": [
        {
          "output_type": "stream",
          "text": [
            "Rows: 60000, columns: 784\n",
            "Rows: 10000, columns: 784\n"
          ],
          "name": "stdout"
        }
      ]
    },
    {
      "metadata": {
        "id": "ivWKMBZvUoxE",
        "colab_type": "code",
        "colab": {
          "base_uri": "https://localhost:8080/"
        },
        "outputId": "33daf424-8367-4f20-d1ba-80f5c6cc1248"
      },
      "cell_type": "code",
      "source": [
        "mean_vals = np.mean(X_train, axis=0)\n",
        "std_vals = np.std(X_train)\n",
        "X_train_centered = (X_train - mean_vals) / std_vals\n",
        "X_test_centered = (X_test - mean_vals) / std_vals\n",
        "\n",
        "del X_train, X_test\n",
        "print(X_train_centered.shape, y_train.shape)\n",
        "print(X_test_centered.shape, y_test.shape)"
      ],
      "execution_count": 17,
      "outputs": [
        {
          "output_type": "stream",
          "text": [
            "(60000, 784) (60000,)\n",
            "(10000, 784) (10000,)\n"
          ],
          "name": "stdout"
        }
      ]
    },
    {
      "metadata": {
        "id": "0zBWQ8TRVisv",
        "colab_type": "code",
        "colab": {
          "base_uri": "https://localhost:8080/",
          "height": 68
        },
        "outputId": "dd5306f7-3106-4e93-ad91-52927e1d06eb"
      },
      "cell_type": "code",
      "source": [
        "import tensorflow as tf\n",
        "n_features = X_train_centered.shape[1]\n",
        "n_classes = 10\n",
        "random_seed = 123\n",
        "np.random.seed(random_seed)\n",
        "\n",
        "g = tf.Graph()\n",
        "with g.as_default():\n",
        "    tf.set_random_seed(random_seed)\n",
        "    tf_x = tf.placeholder(dtype=tf.float32, shape=(None, n_features), name='tf_x')\n",
        "    tf_y = tf.placeholder(dtype=tf.int32, shape=None, name='tf_y')\n",
        "    y_onehot = tf.one_hot(indices=tf_y, depth=n_classes)\n",
        "    \n",
        "    h1 = tf.layers.dense(inputs=tf_x, units=50, activation=tf.tanh, name='layer1')\n",
        "    h2 = tf.layers.dense(inputs=h1, units=50, activation=tf.tanh, name='layer2')\n",
        "    logits = tf.layers.dense(inputs=h2, units=10, activation=None, name='layer3')\n",
        "    \n",
        "    predictions = {\n",
        "        'classes': tf.argmax(logits, axis=1, name='predicted_classes'),\n",
        "        'probabilities': tf.nn.softmax(logits, name='softmax_tensor')\n",
        "    }"
      ],
      "execution_count": 19,
      "outputs": [
        {
          "output_type": "stream",
          "text": [
            "WARNING:tensorflow:From <ipython-input-19-229f57670985>:14: dense (from tensorflow.python.layers.core) is deprecated and will be removed in a future version.\n",
            "Instructions for updating:\n",
            "Use keras.layers.dense instead.\n"
          ],
          "name": "stdout"
        }
      ]
    },
    {
      "metadata": {
        "id": "MT6rk441XDnT",
        "colab_type": "code",
        "colab": {
          "base_uri": "https://localhost:8080/",
          "height": 68
        },
        "outputId": "040ef073-8f34-4821-9641-9b8b3c36414d"
      },
      "cell_type": "code",
      "source": [
        "with g.as_default():\n",
        "    cost = tf.losses.softmax_cross_entropy(onehot_labels=y_onehot, logits=logits)\n",
        "    optimizer = tf.train.GradientDescentOptimizer(learning_rate=0.001)\n",
        "    train_op = optimizer.minimize(loss=cost)\n",
        "    init_op = tf.global_variables_initializer()"
      ],
      "execution_count": 20,
      "outputs": [
        {
          "output_type": "stream",
          "text": [
            "WARNING:tensorflow:From /usr/local/lib/python3.6/dist-packages/tensorflow/python/ops/losses/losses_impl.py:209: to_float (from tensorflow.python.ops.math_ops) is deprecated and will be removed in a future version.\n",
            "Instructions for updating:\n",
            "Use tf.cast instead.\n"
          ],
          "name": "stdout"
        }
      ]
    },
    {
      "metadata": {
        "id": "omFhbHhpXDvy",
        "colab_type": "code",
        "colab": {}
      },
      "cell_type": "code",
      "source": [
        "def create_batch_generator(X, y, batch_size=128, shuffle=False):\n",
        "    X_copy = np.array(X)\n",
        "    y_copy = np.array(y)\n",
        "    \n",
        "    if shuffle:\n",
        "        data = np.column_stack((X_copy, y_copy))\n",
        "        np.random.shuffle(data)\n",
        "        X_copy = data[:, :-1]\n",
        "        y_copy = data[:, -1].astype(int)\n",
        "        \n",
        "    for i in range(0, X.shape[0], batch_size):\n",
        "        yield (X_copy[i:i+batch_size, :], y_copy[i:i+batch_size])"
      ],
      "execution_count": 0,
      "outputs": []
    },
    {
      "metadata": {
        "id": "9LsLqYqzYyxQ",
        "colab_type": "code",
        "colab": {
          "base_uri": "https://localhost:8080/",
          "height": 867
        },
        "outputId": "3fc46e22-975f-4440-e163-16077c5fc02b"
      },
      "cell_type": "code",
      "source": [
        "sess = tf.Session(graph=g)\n",
        "sess.run(init_op)\n",
        "\n",
        "training_costs = []\n",
        "for epoch in range(50):\n",
        "    training_loss = []\n",
        "    batch_generator = create_batch_generator(X_train_centered, y_train, batch_size=64)\n",
        "    for batch_X, batch_y in batch_generator:\n",
        "        feed = {tf_x:batch_X, tf_y:batch_y}\n",
        "        _, batch_cost = sess.run([train_op, cost], feed_dict=feed)\n",
        "        training_costs.append(batch_cost)\n",
        "        \n",
        "    print(' -- Epoch %2d Avg. Training Loss: %.4f' % (epoch + 1, np.mean(training_costs)))"
      ],
      "execution_count": 22,
      "outputs": [
        {
          "output_type": "stream",
          "text": [
            " -- Epoch  1 Avg. Training Loss: 1.5573\n",
            " -- Epoch  2 Avg. Training Loss: 1.2532\n",
            " -- Epoch  3 Avg. Training Loss: 1.0854\n",
            " -- Epoch  4 Avg. Training Loss: 0.9738\n",
            " -- Epoch  5 Avg. Training Loss: 0.8924\n",
            " -- Epoch  6 Avg. Training Loss: 0.8296\n",
            " -- Epoch  7 Avg. Training Loss: 0.7794\n",
            " -- Epoch  8 Avg. Training Loss: 0.7381\n",
            " -- Epoch  9 Avg. Training Loss: 0.7032\n",
            " -- Epoch 10 Avg. Training Loss: 0.6734\n",
            " -- Epoch 11 Avg. Training Loss: 0.6475\n",
            " -- Epoch 12 Avg. Training Loss: 0.6247\n",
            " -- Epoch 13 Avg. Training Loss: 0.6045\n",
            " -- Epoch 14 Avg. Training Loss: 0.5864\n",
            " -- Epoch 15 Avg. Training Loss: 0.5700\n",
            " -- Epoch 16 Avg. Training Loss: 0.5551\n",
            " -- Epoch 17 Avg. Training Loss: 0.5415\n",
            " -- Epoch 18 Avg. Training Loss: 0.5290\n",
            " -- Epoch 19 Avg. Training Loss: 0.5175\n",
            " -- Epoch 20 Avg. Training Loss: 0.5068\n",
            " -- Epoch 21 Avg. Training Loss: 0.4968\n",
            " -- Epoch 22 Avg. Training Loss: 0.4875\n",
            " -- Epoch 23 Avg. Training Loss: 0.4788\n",
            " -- Epoch 24 Avg. Training Loss: 0.4706\n",
            " -- Epoch 25 Avg. Training Loss: 0.4629\n",
            " -- Epoch 26 Avg. Training Loss: 0.4556\n",
            " -- Epoch 27 Avg. Training Loss: 0.4487\n",
            " -- Epoch 28 Avg. Training Loss: 0.4422\n",
            " -- Epoch 29 Avg. Training Loss: 0.4359\n",
            " -- Epoch 30 Avg. Training Loss: 0.4300\n",
            " -- Epoch 31 Avg. Training Loss: 0.4243\n",
            " -- Epoch 32 Avg. Training Loss: 0.4189\n",
            " -- Epoch 33 Avg. Training Loss: 0.4138\n",
            " -- Epoch 34 Avg. Training Loss: 0.4088\n",
            " -- Epoch 35 Avg. Training Loss: 0.4041\n",
            " -- Epoch 36 Avg. Training Loss: 0.3995\n",
            " -- Epoch 37 Avg. Training Loss: 0.3951\n",
            " -- Epoch 38 Avg. Training Loss: 0.3909\n",
            " -- Epoch 39 Avg. Training Loss: 0.3868\n",
            " -- Epoch 40 Avg. Training Loss: 0.3829\n",
            " -- Epoch 41 Avg. Training Loss: 0.3791\n",
            " -- Epoch 42 Avg. Training Loss: 0.3754\n",
            " -- Epoch 43 Avg. Training Loss: 0.3718\n",
            " -- Epoch 44 Avg. Training Loss: 0.3684\n",
            " -- Epoch 45 Avg. Training Loss: 0.3651\n",
            " -- Epoch 46 Avg. Training Loss: 0.3618\n",
            " -- Epoch 47 Avg. Training Loss: 0.3587\n",
            " -- Epoch 48 Avg. Training Loss: 0.3556\n",
            " -- Epoch 49 Avg. Training Loss: 0.3527\n",
            " -- Epoch 50 Avg. Training Loss: 0.3498\n"
          ],
          "name": "stdout"
        }
      ]
    },
    {
      "metadata": {
        "id": "EEJkjHh0axam",
        "colab_type": "code",
        "colab": {
          "base_uri": "https://localhost:8080/",
          "height": 34
        },
        "outputId": "65d24292-3db3-4919-ded0-d2371b2ff985"
      },
      "cell_type": "code",
      "source": [
        "feed = {tf_x: X_test_centered}\n",
        "y_pred = sess.run(predictions['classes'], feed_dict=feed)\n",
        "\n",
        "print('Test Accuracy: %.2f%%' % (100 * np.sum(y_pred == y_test) / y_test.shape[0]))"
      ],
      "execution_count": 23,
      "outputs": [
        {
          "output_type": "stream",
          "text": [
            "Test Accuracy: 93.89%\n"
          ],
          "name": "stdout"
        }
      ]
    },
    {
      "metadata": {
        "id": "Hgmq52bjbXFK",
        "colab_type": "code",
        "colab": {
          "base_uri": "https://localhost:8080/",
          "height": 232
        },
        "outputId": "e402a3ce-21bd-4d55-85c7-c100d3febe93"
      },
      "cell_type": "code",
      "source": [
        "X_train, y_train = load_mnist('./', kind='train')\n",
        "print(\"Rows: %d, Columns: %d\" % (X_train.shape[0], y_train.shape[1]))\n",
        "X_test, y_test = load_mnist('./', kind='t10k')\n",
        "print(\"Rows: %d, Columns: %d\" % (X_test.shape[0], y_test.shape[1]))\n",
        "\n",
        "mean_vals = np.mean(X_train, axis=0)\n",
        "std_vals = np.std(X_train)\n",
        "\n",
        "X_train_centered = (X_train - mean_vals) / std_vals\n",
        "X_test_centered = (X_test - mean_vals) / std_vals\n",
        "\n",
        "del X_train, X_test\n",
        "\n",
        "print(X_train_centered.shape, y_train.shape)\n",
        "print(X_test_centered.shape, y_test.shape)"
      ],
      "execution_count": 24,
      "outputs": [
        {
          "output_type": "error",
          "ename": "IndexError",
          "evalue": "ignored",
          "traceback": [
            "\u001b[0;31m---------------------------------------------------------------------------\u001b[0m",
            "\u001b[0;31mIndexError\u001b[0m                                Traceback (most recent call last)",
            "\u001b[0;32m<ipython-input-24-84c2e2cdc044>\u001b[0m in \u001b[0;36m<module>\u001b[0;34m()\u001b[0m\n\u001b[1;32m      1\u001b[0m \u001b[0mX_train\u001b[0m\u001b[0;34m,\u001b[0m \u001b[0my_train\u001b[0m \u001b[0;34m=\u001b[0m \u001b[0mload_mnist\u001b[0m\u001b[0;34m(\u001b[0m\u001b[0;34m'./'\u001b[0m\u001b[0;34m,\u001b[0m \u001b[0mkind\u001b[0m\u001b[0;34m=\u001b[0m\u001b[0;34m'train'\u001b[0m\u001b[0;34m)\u001b[0m\u001b[0;34m\u001b[0m\u001b[0;34m\u001b[0m\u001b[0m\n\u001b[0;32m----> 2\u001b[0;31m \u001b[0mprint\u001b[0m\u001b[0;34m(\u001b[0m\u001b[0;34m\"Rows: %d, Columns: %d\"\u001b[0m \u001b[0;34m%\u001b[0m \u001b[0;34m(\u001b[0m\u001b[0mX_train\u001b[0m\u001b[0;34m.\u001b[0m\u001b[0mshape\u001b[0m\u001b[0;34m[\u001b[0m\u001b[0;36m0\u001b[0m\u001b[0;34m]\u001b[0m\u001b[0;34m,\u001b[0m \u001b[0my_train\u001b[0m\u001b[0;34m.\u001b[0m\u001b[0mshape\u001b[0m\u001b[0;34m[\u001b[0m\u001b[0;36m1\u001b[0m\u001b[0;34m]\u001b[0m\u001b[0;34m)\u001b[0m\u001b[0;34m)\u001b[0m\u001b[0;34m\u001b[0m\u001b[0;34m\u001b[0m\u001b[0m\n\u001b[0m\u001b[1;32m      3\u001b[0m \u001b[0mX_test\u001b[0m\u001b[0;34m,\u001b[0m \u001b[0my_test\u001b[0m \u001b[0;34m=\u001b[0m \u001b[0mload_mnist\u001b[0m\u001b[0;34m(\u001b[0m\u001b[0;34m'./'\u001b[0m\u001b[0;34m,\u001b[0m \u001b[0mkind\u001b[0m\u001b[0;34m=\u001b[0m\u001b[0;34m't10k'\u001b[0m\u001b[0;34m)\u001b[0m\u001b[0;34m\u001b[0m\u001b[0;34m\u001b[0m\u001b[0m\n\u001b[1;32m      4\u001b[0m \u001b[0mprint\u001b[0m\u001b[0;34m(\u001b[0m\u001b[0;34m\"Rows: %d, Columns: %d\"\u001b[0m \u001b[0;34m%\u001b[0m \u001b[0;34m(\u001b[0m\u001b[0mX_test\u001b[0m\u001b[0;34m.\u001b[0m\u001b[0mshape\u001b[0m\u001b[0;34m[\u001b[0m\u001b[0;36m0\u001b[0m\u001b[0;34m]\u001b[0m\u001b[0;34m,\u001b[0m \u001b[0my_test\u001b[0m\u001b[0;34m.\u001b[0m\u001b[0mshape\u001b[0m\u001b[0;34m[\u001b[0m\u001b[0;36m1\u001b[0m\u001b[0;34m]\u001b[0m\u001b[0;34m)\u001b[0m\u001b[0;34m)\u001b[0m\u001b[0;34m\u001b[0m\u001b[0;34m\u001b[0m\u001b[0m\n\u001b[1;32m      5\u001b[0m \u001b[0;34m\u001b[0m\u001b[0m\n",
            "\u001b[0;31mIndexError\u001b[0m: tuple index out of range"
          ]
        }
      ]
    },
    {
      "metadata": {
        "id": "rZcVLiZcDfx5",
        "colab_type": "code",
        "colab": {}
      },
      "cell_type": "code",
      "source": [
        "import tensorflow as tf\n",
        "import keras\n",
        "\n",
        "np.random.seed(123)\n",
        "tf.set_random_seed(123)\n",
        "y_train_onehot = keras.utils.to_categorical(y_train)\n",
        "print('First 3 labels: ', y_train[:3])\n",
        "\n",
        "print('\\nFirst 3 labels (one-hot):\\n', y_train_onehot[:3])"
      ],
      "execution_count": 0,
      "outputs": []
    },
    {
      "metadata": {
        "id": "Vif9rtELEmF_",
        "colab_type": "code",
        "colab": {}
      },
      "cell_type": "code",
      "source": [
        "model = keras.models.Sequential()\n",
        "model.add(keras.layers.Dense(units=50, input_dim=X_train_centered.shape[1], kernel_initializer='glorot_uniform', bias_initializer='zeros', activation='tanh'))\n",
        "model.add(keras.layers.Dense(units=50, input_dim=50, kernel_initializer='glorot_uniform', bias_initializer='zeros', activation='tanh'))\n",
        "model.add(keras.layers.Dense(units=input_dim=y_train.shape[1], input_dim=50, kernel_initializer='glorot_uniform', bias_initializer='zeros', activation='softmax'))\n",
        "\n",
        "sgd_optimizer = keras.optimizers.SGD(lr=0.001, decay=1e-7, momentum=.9)\n",
        "model.compile(optimizer=sgd_optimizer, loss='categorical_crossentropy')"
      ],
      "execution_count": 0,
      "outputs": []
    },
    {
      "metadata": {
        "id": "O7c2VjrtFkNo",
        "colab_type": "code",
        "colab": {}
      },
      "cell_type": "code",
      "source": [
        "history = model.fit(X_train_centered, y_train_onehot, batch_size=64, epochs=50, verbose=1, validation_split=0.1)"
      ],
      "execution_count": 0,
      "outputs": []
    },
    {
      "metadata": {
        "id": "hLXLjtorJ8EL",
        "colab_type": "code",
        "colab": {}
      },
      "cell_type": "code",
      "source": [
        "y_train_pred = model.predict_classes(X_train_centered, vorbose=0)\n",
        "print('first 3 predictions: ', y_train_pred[:3])"
      ],
      "execution_count": 0,
      "outputs": []
    },
    {
      "metadata": {
        "id": "p-wm-3MUKLHR",
        "colab_type": "code",
        "colab": {}
      },
      "cell_type": "code",
      "source": [
        "y_train_pred = model.predict_classes(X_train_centerd, verbose=0)\n",
        "correct_preds = np.sum(y_train_pred == y_train, axis=0)\n",
        "train_acc = correct_preds / y_train.shape[0]\n",
        "print('First 3 predictions: ', y_train_pred[:3])\n",
        "print('Training accuracy: %.2f%%' % (train_acc * 100))\n",
        "\n",
        "y_test_pred = model.predict_classes(X_test_centered, verbose=0)\n",
        "correct_preds = np.sum(y_test_pred == y_test, axis=0)\n",
        "test_acc = correct_preds / y_test.shape[0]\n",
        "\n",
        "print('Test accuracy: %.2f%%' % (test_acc * 100))"
      ],
      "execution_count": 0,
      "outputs": []
    },
    {
      "metadata": {
        "id": "BqIBr5l2mjBE",
        "colab_type": "code",
        "colab": {
          "base_uri": "https://localhost:8080/",
          "height": 34
        },
        "outputId": "db24e2b6-dc9f-41ae-ab44-ed8ce04cc0a2"
      },
      "cell_type": "code",
      "source": [
        "import numpy as np\n",
        "X = np.array([1, 1.4, 2.5])\n",
        "w = np.array([0.4, 0.3, 0.5])\n",
        "\n",
        "def net_input(X, w):\n",
        "    return np.dot(X, w)\n",
        "\n",
        "def logistic(z):\n",
        "    return 1.0 / (1.0 + np.exp(-z))\n",
        "\n",
        "def logistic_activation(X, w):\n",
        "    z = net_input(X, w)\n",
        "    return logistic(z)\n",
        "\n",
        "print('P(y=1|x) = %.3f' % logistic_activation(X, w))"
      ],
      "execution_count": 28,
      "outputs": [
        {
          "output_type": "stream",
          "text": [
            "P(y=1|x) = 0.888\n"
          ],
          "name": "stdout"
        }
      ]
    },
    {
      "metadata": {
        "id": "ibbQWFJdpOnL",
        "colab_type": "code",
        "colab": {}
      },
      "cell_type": "code",
      "source": [
        "W = np.array([[1.1, 1.2, 0.8, 0.4],\n",
        "              [0.2, 0.4, 1.0, 0.2],\n",
        "              [0.6, 1.5, 1.2, 0.7]])\n",
        "\n",
        "A = np.array([[1, 0.1, 0.4, 0.6]])"
      ],
      "execution_count": 0,
      "outputs": []
    },
    {
      "metadata": {
        "id": "UNbXJvFopeJG",
        "colab_type": "code",
        "colab": {
          "base_uri": "https://localhost:8080/",
          "height": 85
        },
        "outputId": "3258cdec-4072-4613-95bc-0370225f6d66"
      },
      "cell_type": "code",
      "source": [
        "Z = np.dot(W, A[0])\n",
        "y_probas = logistic(Z)\n",
        "print(\"Net Input \\n: \", Z)\n",
        "\n",
        "print('Output Units: \\n', y_probas)"
      ],
      "execution_count": 32,
      "outputs": [
        {
          "output_type": "stream",
          "text": [
            "Net Input \n",
            ":  [1.78 0.76 1.65]\n",
            "Output Units: \n",
            " [0.85569687 0.68135373 0.83889105]\n"
          ],
          "name": "stdout"
        }
      ]
    },
    {
      "metadata": {
        "id": "6HJ7EGvlqKpN",
        "colab_type": "code",
        "colab": {
          "base_uri": "https://localhost:8080/",
          "height": 34
        },
        "outputId": "57e2783f-8ae6-4f3d-e831-4d9c1fe5025c"
      },
      "cell_type": "code",
      "source": [
        "y_class = np.argmax(y_probas)\n",
        "print(\"Predicted class label: %d\" % y_class)"
      ],
      "execution_count": 33,
      "outputs": [
        {
          "output_type": "stream",
          "text": [
            "Predicted class label: 0\n"
          ],
          "name": "stdout"
        }
      ]
    },
    {
      "metadata": {
        "id": "3FOOO-D-uL44",
        "colab_type": "code",
        "colab": {
          "base_uri": "https://localhost:8080/",
          "height": 68
        },
        "outputId": "5c6100a0-90dd-461e-b03e-dbd0ae7142d6"
      },
      "cell_type": "code",
      "source": [
        "def softmax(z):\n",
        "    return np.exp(z) / np.sum(np.exp(z))\n",
        "\n",
        "y_probas = softmax(Z)\n",
        "print('Probabilities:\\n', y_probas)\n",
        "np.sum(y_probas)"
      ],
      "execution_count": 35,
      "outputs": [
        {
          "output_type": "stream",
          "text": [
            "Probabilities:\n",
            " [0.44668973 0.16107406 0.39223621]\n"
          ],
          "name": "stdout"
        },
        {
          "output_type": "execute_result",
          "data": {
            "text/plain": [
              "1.0"
            ]
          },
          "metadata": {
            "tags": []
          },
          "execution_count": 35
        }
      ]
    },
    {
      "metadata": {
        "id": "HOrcW2ygwkvx",
        "colab_type": "code",
        "colab": {
          "base_uri": "https://localhost:8080/",
          "height": 401
        },
        "outputId": "58833c45-cfbd-4d42-bbda-71b26afd4400"
      },
      "cell_type": "code",
      "source": [
        "import matplotlib.pyplot as plt\n",
        "\n",
        "def tanh(z):\n",
        "    e_p = np.exp(z)\n",
        "    e_m = np.exp(-z)\n",
        "    return (e_p - e_m) / (e_p + e_m)\n",
        "\n",
        "z = np.arange(-5, 5, 0.005)\n",
        "log_act = logistic(z)\n",
        "tanh_act = tanh(z)\n",
        "plt.ylim([-1.5, 1.5])\n",
        "plt.xlabel('net input $z$')\n",
        "plt.ylabel('activation $\\phi(z)$')\n",
        "plt.axhline(1, color='black', linestyle=':')\n",
        "plt.axhline(0.5, color='black', linestyle=':')\n",
        "plt.axhline(0, color='black', linestyle=':')\n",
        "plt.axhline(-0.5, color='black', linestyle=':')\n",
        "plt.axhline(-1, color='black', linestyle=':')\n",
        "plt.plot(z, tanh_act, linewidth=3, linestyle='--', label='tanh')\n",
        "plt.plot(z, log_act, linewidth=3, label='logistic')\n",
        "plt.legend(loc='lower right')\n",
        "plt.tight_layout()\n",
        "plt.show()"
      ],
      "execution_count": 41,
      "outputs": [
        {
          "output_type": "display_data",
          "data": {
            "image/png": "[encoded data removed]",
            "text/plain": [
              "<Figure size 576x396 with 1 Axes>"
            ]
          },
          "metadata": {
            "tags": []
          }
        }
      ]
    },
    {
      "metadata": {
        "id": "kmO058VPyGr8",
        "colab_type": "code",
        "colab": {
          "base_uri": "https://localhost:8080/",
          "height": 51
        },
        "outputId": "2b2a2f02-662a-42d9-da33-05d4fd5d4c12"
      },
      "cell_type": "code",
      "source": [
        "tanh_act = np.tanh(z)\n",
        "tanh_act"
      ],
      "execution_count": 42,
      "outputs": [
        {
          "output_type": "execute_result",
          "data": {
            "text/plain": [
              "array([-0.9999092 , -0.99990829, -0.99990737, ...,  0.99990644,\n",
              "        0.99990737,  0.99990829])"
            ]
          },
          "metadata": {
            "tags": []
          },
          "execution_count": 42
        }
      ]
    },
    {
      "metadata": {
        "id": "N4IMhwUoyLFI",
        "colab_type": "code",
        "colab": {
          "base_uri": "https://localhost:8080/",
          "height": 51
        },
        "outputId": "ec875194-64c2-4aab-c38d-8b1fb1ae0247"
      },
      "cell_type": "code",
      "source": [
        "from scipy.special import expit\n",
        "log_act = expit(z)\n",
        "log_act"
      ],
      "execution_count": 43,
      "outputs": [
        {
          "output_type": "execute_result",
          "data": {
            "text/plain": [
              "array([0.00669285, 0.00672617, 0.00675966, ..., 0.99320669, 0.99324034,\n",
              "       0.99327383])"
            ]
          },
          "metadata": {
            "tags": []
          },
          "execution_count": 43
        }
      ]
    }
  ]
}